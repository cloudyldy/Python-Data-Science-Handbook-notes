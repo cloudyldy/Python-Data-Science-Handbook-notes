{
 "cells": [
  {
   "cell_type": "markdown",
   "metadata": {},
   "source": [
    "# 2 NumPy入门"
   ]
  },
  {
   "cell_type": "markdown",
   "metadata": {},
   "source": [
    "## 2.1 理解Python中的数据类型"
   ]
  },
  {
   "cell_type": "markdown",
   "metadata": {},
   "source": [
    "### 2.1.4 从Python列表创建数组"
   ]
  },
  {
   "cell_type": "markdown",
   "metadata": {},
   "source": [
    "从用np别名导入Numpy的标准做法开始"
   ]
  },
  {
   "cell_type": "code",
   "execution_count": 6,
   "metadata": {},
   "outputs": [],
   "source": [
    "import numpy as np"
   ]
  },
  {
   "cell_type": "markdown",
   "metadata": {},
   "source": [
    "首先，可以用np.array从Python列表创建数组"
   ]
  },
  {
   "cell_type": "code",
   "execution_count": 7,
   "metadata": {},
   "outputs": [
    {
     "data": {
      "text/plain": [
       "array([1, 4, 2, 5, 3])"
      ]
     },
     "execution_count": 7,
     "metadata": {},
     "output_type": "execute_result"
    }
   ],
   "source": [
    "#整型数组\n",
    "np.array([1, 4, 2, 5, 3])"
   ]
  },
  {
   "cell_type": "markdown",
   "metadata": {},
   "source": [
    "强制向上转换"
   ]
  },
  {
   "cell_type": "code",
   "execution_count": 8,
   "metadata": {},
   "outputs": [
    {
     "data": {
      "text/plain": [
       "array([3.14, 4.  , 2.  , 3.  ])"
      ]
     },
     "execution_count": 8,
     "metadata": {},
     "output_type": "execute_result"
    }
   ],
   "source": [
    "np.array([3.14, 4, 2, 3])"
   ]
  },
  {
   "cell_type": "markdown",
   "metadata": {},
   "source": [
    "如果希望明确设置数组的类型，可以使用dtype关键字"
   ]
  },
  {
   "cell_type": "code",
   "execution_count": 9,
   "metadata": {},
   "outputs": [
    {
     "data": {
      "text/plain": [
       "array([1., 2., 3., 4.], dtype=float32)"
      ]
     },
     "execution_count": 9,
     "metadata": {},
     "output_type": "execute_result"
    }
   ],
   "source": [
    "np.array([1, 2, 3, 4], dtype = 'float32')"
   ]
  },
  {
   "cell_type": "markdown",
   "metadata": {},
   "source": [
    "不同于Python列表，Numpy数组可以被指定为多维的。以下是用列表的列表初始化多维数组的一种方法："
   ]
  },
  {
   "cell_type": "code",
   "execution_count": 10,
   "metadata": {},
   "outputs": [
    {
     "data": {
      "text/plain": [
       "array([[2, 3, 4],\n",
       "       [4, 5, 6],\n",
       "       [6, 7, 8]])"
      ]
     },
     "execution_count": 10,
     "metadata": {},
     "output_type": "execute_result"
    }
   ],
   "source": [
    "#嵌套列表构成的多维数组,内层的列表被当作二维数组的行\n",
    "np.array([range(i, i + 3) for i in [2, 4, 6]])"
   ]
  },
  {
   "cell_type": "markdown",
   "metadata": {},
   "source": [
    "### 2.1.5 从头创建数组"
   ]
  },
  {
   "cell_type": "code",
   "execution_count": 11,
   "metadata": {},
   "outputs": [
    {
     "data": {
      "text/plain": [
       "array([0, 0, 0, 0, 0, 0, 0, 0, 0, 0])"
      ]
     },
     "execution_count": 11,
     "metadata": {},
     "output_type": "execute_result"
    }
   ],
   "source": [
    "#创建一个长度为10的数组，数组的值都是0\n",
    "np.zeros(10, dtype = int)"
   ]
  },
  {
   "cell_type": "code",
   "execution_count": 12,
   "metadata": {},
   "outputs": [
    {
     "data": {
      "text/plain": [
       "array([[1, 1, 1, 1, 1],\n",
       "       [1, 1, 1, 1, 1],\n",
       "       [1, 1, 1, 1, 1]])"
      ]
     },
     "execution_count": 12,
     "metadata": {},
     "output_type": "execute_result"
    }
   ],
   "source": [
    "#创建一个3*5的浮点数数组，数组的值都是1\n",
    "np.ones((3,5), dtype = int)"
   ]
  },
  {
   "cell_type": "code",
   "execution_count": 13,
   "metadata": {},
   "outputs": [
    {
     "data": {
      "text/plain": [
       "array([[3.14, 3.14, 3.14, 3.14, 3.14],\n",
       "       [3.14, 3.14, 3.14, 3.14, 3.14],\n",
       "       [3.14, 3.14, 3.14, 3.14, 3.14]])"
      ]
     },
     "execution_count": 13,
     "metadata": {},
     "output_type": "execute_result"
    }
   ],
   "source": [
    "#创建一个3*5的浮点型数组，数组的值都是3.14\n",
    "np.full((3, 5), 3.14)"
   ]
  },
  {
   "cell_type": "code",
   "execution_count": 14,
   "metadata": {},
   "outputs": [
    {
     "data": {
      "text/plain": [
       "array([ 0,  2,  4,  6,  8, 10, 12, 14, 16, 18])"
      ]
     },
     "execution_count": 14,
     "metadata": {},
     "output_type": "execute_result"
    }
   ],
   "source": [
    "#创建一个3*5的浮点型数组，数组的值是一个线性序列\n",
    "#从0开始，到20结束，步长为2\n",
    "#（它和内置的range()函数类似）\n",
    "np.arange(0, 20, 2)"
   ]
  },
  {
   "cell_type": "code",
   "execution_count": 15,
   "metadata": {},
   "outputs": [
    {
     "data": {
      "text/plain": [
       "array([0.  , 0.25, 0.5 , 0.75, 1.  ])"
      ]
     },
     "execution_count": 15,
     "metadata": {},
     "output_type": "execute_result"
    }
   ],
   "source": [
    "#创建一个值在0~1之间均匀分布的含有五个元素的数组\n",
    "np.linspace(0, 1, 5)"
   ]
  },
  {
   "cell_type": "code",
   "execution_count": 16,
   "metadata": {},
   "outputs": [
    {
     "data": {
      "text/plain": [
       "array([[0.1330234 , 0.07941309, 0.27717095],\n",
       "       [0.92891391, 0.53897494, 0.95216543],\n",
       "       [0.76036916, 0.00346364, 0.08427909]])"
      ]
     },
     "execution_count": 16,
     "metadata": {},
     "output_type": "execute_result"
    }
   ],
   "source": [
    "#创建一个均匀分布的3*3的数组\n",
    "#值都介于0~1\n",
    "np.random.random((3, 3))"
   ]
  },
  {
   "cell_type": "code",
   "execution_count": 17,
   "metadata": {},
   "outputs": [
    {
     "data": {
      "text/plain": [
       "array([[ 1.12025977,  0.53845702,  0.08891445],\n",
       "       [ 1.70925518, -0.60886626, -1.12791729],\n",
       "       [-0.11284438,  0.56809886, -0.09955154]])"
      ]
     },
     "execution_count": 17,
     "metadata": {},
     "output_type": "execute_result"
    }
   ],
   "source": [
    "#创建一个3*3的，均值为0，方差为3的正态分布的随机数数组\n",
    "np.random.normal(0, 1, (3, 3))"
   ]
  },
  {
   "cell_type": "code",
   "execution_count": 18,
   "metadata": {},
   "outputs": [
    {
     "data": {
      "text/plain": [
       "array([-1.65869558, -2.30605074, -0.18758629])"
      ]
     },
     "execution_count": 18,
     "metadata": {},
     "output_type": "execute_result"
    }
   ],
   "source": [
    "#试验环节,实验完了也还是不会,等到搞到正态分布的相关知识再来看吧\n",
    "np.random.normal(0, 1, 3)"
   ]
  },
  {
   "cell_type": "code",
   "execution_count": 19,
   "metadata": {},
   "outputs": [
    {
     "data": {
      "text/plain": [
       "array([[3, 7, 3],\n",
       "       [2, 4, 0],\n",
       "       [1, 8, 1]])"
      ]
     },
     "execution_count": 19,
     "metadata": {},
     "output_type": "execute_result"
    }
   ],
   "source": [
    "#创建一个3*3的值为从0到10的随机数数组\n",
    "np.random.randint(0, 10, (3, 3))"
   ]
  },
  {
   "cell_type": "code",
   "execution_count": 20,
   "metadata": {},
   "outputs": [
    {
     "data": {
      "text/plain": [
       "array([[1., 0., 0.],\n",
       "       [0., 1., 0.],\n",
       "       [0., 0., 1.]])"
      ]
     },
     "execution_count": 20,
     "metadata": {},
     "output_type": "execute_result"
    }
   ],
   "source": [
    "#创建一个3*3的单位矩阵\n",
    "np.eye(3)"
   ]
  },
  {
   "cell_type": "code",
   "execution_count": 21,
   "metadata": {},
   "outputs": [
    {
     "data": {
      "text/plain": [
       "array([1., 1., 1.])"
      ]
     },
     "execution_count": 21,
     "metadata": {},
     "output_type": "execute_result"
    }
   ],
   "source": [
    "#创建一个由3个整型数组成的未初始化的数组\n",
    "#数组的值可以是内存空间中的任意值\n",
    "np.empty(3)"
   ]
  },
  {
   "cell_type": "markdown",
   "metadata": {},
   "source": [
    "### 2.1.6 NumPy标准数据类型"
   ]
  },
  {
   "cell_type": "code",
   "execution_count": 3,
   "metadata": {},
   "outputs": [
    {
     "data": {
      "text/plain": [
       "array([0, 0, 0, 0, 0, 0, 0, 0, 0, 0])"
      ]
     },
     "execution_count": 3,
     "metadata": {},
     "output_type": "execute_result"
    }
   ],
   "source": [
    "#比较一下加引号和不加引号有什么区别,事实证明暂时没区别\n",
    "import numpy as np\n",
    "np.zeros(10, dtype = int)"
   ]
  },
  {
   "cell_type": "code",
   "execution_count": 4,
   "metadata": {},
   "outputs": [
    {
     "data": {
      "text/plain": [
       "array([0, 0, 0, 0, 0, 0, 0, 0, 0, 0])"
      ]
     },
     "execution_count": 4,
     "metadata": {},
     "output_type": "execute_result"
    }
   ],
   "source": [
    "np.zeros(10, dtype = 'int')"
   ]
  },
  {
   "cell_type": "code",
   "execution_count": 5,
   "metadata": {},
   "outputs": [
    {
     "data": {
      "text/plain": [
       "array([0, 0, 0, 0, 0, 0, 0, 0, 0, 0], dtype=int16)"
      ]
     },
     "execution_count": 5,
     "metadata": {},
     "output_type": "execute_result"
    }
   ],
   "source": [
    "np.zeros(10, dtype = 'int16')"
   ]
  },
  {
   "cell_type": "code",
   "execution_count": 7,
   "metadata": {
    "collapsed": true
   },
   "outputs": [
    {
     "ename": "NameError",
     "evalue": "name 'int16' is not defined",
     "output_type": "error",
     "traceback": [
      "\u001b[1;31m---------------------------------------------------------------------------\u001b[0m",
      "\u001b[1;31mNameError\u001b[0m                                 Traceback (most recent call last)",
      "\u001b[1;32m<ipython-input-7-e9d34cdba590>\u001b[0m in \u001b[0;36m<module>\u001b[1;34m()\u001b[0m\n\u001b[1;32m----> 1\u001b[1;33m \u001b[0mnp\u001b[0m\u001b[1;33m.\u001b[0m\u001b[0mzeros\u001b[0m\u001b[1;33m(\u001b[0m\u001b[1;36m10\u001b[0m\u001b[1;33m,\u001b[0m \u001b[0mdtype\u001b[0m \u001b[1;33m=\u001b[0m \u001b[0mint16\u001b[0m\u001b[1;33m)\u001b[0m\u001b[1;33m\u001b[0m\u001b[0m\n\u001b[0m",
      "\u001b[1;31mNameError\u001b[0m: name 'int16' is not defined"
     ]
    }
   ],
   "source": [
    "np.zeros(10, dtype = int16)#运行失败,事实证明能加''还是加''"
   ]
  },
  {
   "cell_type": "code",
   "execution_count": 8,
   "metadata": {
    "scrolled": true
   },
   "outputs": [
    {
     "data": {
      "text/plain": [
       "array([0, 0, 0, 0, 0, 0, 0, 0, 0, 0], dtype=int16)"
      ]
     },
     "execution_count": 8,
     "metadata": {},
     "output_type": "execute_result"
    }
   ],
   "source": [
    "np.zeros(10, dtype = np.int16)"
   ]
  },
  {
   "cell_type": "markdown",
   "metadata": {},
   "source": [
    "## 2.2 NumPy数组基础"
   ]
  },
  {
   "cell_type": "markdown",
   "metadata": {},
   "source": [
    "### 2.2.1 NumPy数组的属性"
   ]
  },
  {
   "cell_type": "code",
   "execution_count": 10,
   "metadata": {},
   "outputs": [],
   "source": [
    "import numpy as np\n",
    "np.random.seed(0)"
   ]
  },
  {
   "cell_type": "code",
   "execution_count": 12,
   "metadata": {},
   "outputs": [],
   "source": [
    "x1 = np.random.randint(10, size = 6)\n",
    "x2 = np.random.randint(10, size = (3, 4))\n",
    "x3 = np.random.randint(10, size = (3, 4, 5))"
   ]
  },
  {
   "cell_type": "code",
   "execution_count": 18,
   "metadata": {},
   "outputs": [
    {
     "name": "stdout",
     "output_type": "stream",
     "text": [
      "x3 ndim: 3\n",
      "x3 shape: (3, 4, 5)\n",
      "x3 size: 60\n",
      "x3 dtype: int32\n",
      "x3 itemsize: 4 bytes\n",
      "x3 nbytes: 240 bytes\n"
     ]
    }
   ],
   "source": [
    "print(\"x3 ndim:\", x3.ndim)\n",
    "print(\"x3 shape:\", x3.shape)\n",
    "print(\"x3 size:\", x3.size)\n",
    "print(\"x3 dtype:\", x3.dtype)\n",
    "print(\"x3 itemsize:\", x3.itemsize, \"bytes\")\n",
    "print(\"x3 nbytes:\", x3.nbytes, \"bytes\")"
   ]
  },
  {
   "cell_type": "code",
   "execution_count": 20,
   "metadata": {},
   "outputs": [
    {
     "data": {
      "text/plain": [
       "array([[[8, 1, 5, 9, 8],\n",
       "        [9, 4, 3, 0, 3],\n",
       "        [5, 0, 2, 3, 8],\n",
       "        [1, 3, 3, 3, 7]],\n",
       "\n",
       "       [[0, 1, 9, 9, 0],\n",
       "        [4, 7, 3, 2, 7],\n",
       "        [2, 0, 0, 4, 5],\n",
       "        [5, 6, 8, 4, 1]],\n",
       "\n",
       "       [[4, 9, 8, 1, 1],\n",
       "        [7, 9, 9, 3, 6],\n",
       "        [7, 2, 0, 3, 5],\n",
       "        [9, 4, 4, 6, 4]]])"
      ]
     },
     "execution_count": 20,
     "metadata": {},
     "output_type": "execute_result"
    }
   ],
   "source": [
    "x3#不识庐山真面目，只缘身在此山中。"
   ]
  },
  {
   "cell_type": "markdown",
   "metadata": {},
   "source": [
    "### 2.2.2 数组索引：获取单个元素"
   ]
  },
  {
   "cell_type": "code",
   "execution_count": 19,
   "metadata": {},
   "outputs": [
    {
     "data": {
      "text/plain": [
       "array([5, 0, 3, 3, 7, 9])"
      ]
     },
     "execution_count": 19,
     "metadata": {},
     "output_type": "execute_result"
    }
   ],
   "source": [
    "x1"
   ]
  },
  {
   "cell_type": "code",
   "execution_count": 21,
   "metadata": {},
   "outputs": [
    {
     "data": {
      "text/plain": [
       "5"
      ]
     },
     "execution_count": 21,
     "metadata": {},
     "output_type": "execute_result"
    }
   ],
   "source": [
    "x1[0]"
   ]
  },
  {
   "cell_type": "code",
   "execution_count": 22,
   "metadata": {},
   "outputs": [
    {
     "data": {
      "text/plain": [
       "7"
      ]
     },
     "execution_count": 22,
     "metadata": {},
     "output_type": "execute_result"
    }
   ],
   "source": [
    "x1[4]"
   ]
  },
  {
   "cell_type": "code",
   "execution_count": 23,
   "metadata": {},
   "outputs": [
    {
     "data": {
      "text/plain": [
       "9"
      ]
     },
     "execution_count": 23,
     "metadata": {},
     "output_type": "execute_result"
    }
   ],
   "source": [
    "x1[-1]"
   ]
  },
  {
   "cell_type": "code",
   "execution_count": 24,
   "metadata": {},
   "outputs": [
    {
     "data": {
      "text/plain": [
       "7"
      ]
     },
     "execution_count": 24,
     "metadata": {},
     "output_type": "execute_result"
    }
   ],
   "source": [
    "x1[-2]"
   ]
  },
  {
   "cell_type": "code",
   "execution_count": 25,
   "metadata": {},
   "outputs": [
    {
     "data": {
      "text/plain": [
       "array([[3, 5, 2, 4],\n",
       "       [7, 6, 8, 8],\n",
       "       [1, 6, 7, 7]])"
      ]
     },
     "execution_count": 25,
     "metadata": {},
     "output_type": "execute_result"
    }
   ],
   "source": [
    "x2"
   ]
  },
  {
   "cell_type": "code",
   "execution_count": 26,
   "metadata": {},
   "outputs": [
    {
     "data": {
      "text/plain": [
       "array([[3, 5, 2, 4],\n",
       "       [7, 6, 8, 8],\n",
       "       [1, 6, 7, 7]])"
      ]
     },
     "execution_count": 26,
     "metadata": {},
     "output_type": "execute_result"
    }
   ],
   "source": [
    "#在多维数组中，可以用逗号分隔的索引元组获取元素\n",
    "x2"
   ]
  },
  {
   "cell_type": "code",
   "execution_count": 27,
   "metadata": {},
   "outputs": [
    {
     "data": {
      "text/plain": [
       "3"
      ]
     },
     "execution_count": 27,
     "metadata": {},
     "output_type": "execute_result"
    }
   ],
   "source": [
    "x2[0, 0]"
   ]
  },
  {
   "cell_type": "code",
   "execution_count": 28,
   "metadata": {},
   "outputs": [
    {
     "data": {
      "text/plain": [
       "1"
      ]
     },
     "execution_count": 28,
     "metadata": {},
     "output_type": "execute_result"
    }
   ],
   "source": [
    "x2[2, 0]"
   ]
  },
  {
   "cell_type": "code",
   "execution_count": 29,
   "metadata": {},
   "outputs": [
    {
     "data": {
      "text/plain": [
       "7"
      ]
     },
     "execution_count": 29,
     "metadata": {},
     "output_type": "execute_result"
    }
   ],
   "source": [
    "x2[2, -1]"
   ]
  },
  {
   "cell_type": "code",
   "execution_count": 32,
   "metadata": {},
   "outputs": [
    {
     "data": {
      "text/plain": [
       "array([[12,  5,  2,  4],\n",
       "       [ 7,  6,  8,  8],\n",
       "       [ 1,  6,  7,  7]])"
      ]
     },
     "execution_count": 32,
     "metadata": {},
     "output_type": "execute_result"
    }
   ],
   "source": [
    "# 也可以通过以上索引方式修改元素值\n",
    "x2[0, 0] = 12\n",
    "x2"
   ]
  },
  {
   "cell_type": "code",
   "execution_count": 33,
   "metadata": {},
   "outputs": [
    {
     "data": {
      "text/plain": [
       "array([3, 0, 3, 3, 7, 9])"
      ]
     },
     "execution_count": 33,
     "metadata": {},
     "output_type": "execute_result"
    }
   ],
   "source": [
    "#和列表不同，NumPy数组是固定类型的，这意味着当你将一个浮点值插入一个整型数组时，浮点值会被截断成整型\n",
    "x1[0] = 3.14159\n",
    "x1"
   ]
  },
  {
   "cell_type": "markdown",
   "metadata": {},
   "source": [
    "### 2.2.3 数组切片：获取子数组"
   ]
  },
  {
   "cell_type": "markdown",
   "metadata": {},
   "source": [
    "#### 1.一维子数组"
   ]
  },
  {
   "cell_type": "code",
   "execution_count": 35,
   "metadata": {},
   "outputs": [
    {
     "data": {
      "text/plain": [
       "array([0, 1, 2, 3, 4, 5, 6, 7, 8, 9])"
      ]
     },
     "execution_count": 35,
     "metadata": {},
     "output_type": "execute_result"
    }
   ],
   "source": [
    "#切片方式：x[start:stop:step]\n",
    "#以上默认值分别为0、size of dimension、1\n",
    "#同np的arange函数相同\n",
    "x = np.arange(0, 10, 1)\n",
    "x"
   ]
  },
  {
   "cell_type": "code",
   "execution_count": 36,
   "metadata": {},
   "outputs": [
    {
     "data": {
      "text/plain": [
       "array([0, 1, 2, 3, 4])"
      ]
     },
     "execution_count": 36,
     "metadata": {},
     "output_type": "execute_result"
    }
   ],
   "source": [
    "x[:5]"
   ]
  },
  {
   "cell_type": "code",
   "execution_count": 37,
   "metadata": {},
   "outputs": [
    {
     "data": {
      "text/plain": [
       "array([5, 6, 7, 8, 9])"
      ]
     },
     "execution_count": 37,
     "metadata": {},
     "output_type": "execute_result"
    }
   ],
   "source": [
    "x[5:]"
   ]
  },
  {
   "cell_type": "code",
   "execution_count": 39,
   "metadata": {},
   "outputs": [
    {
     "data": {
      "text/plain": [
       "array([4, 5, 6])"
      ]
     },
     "execution_count": 39,
     "metadata": {},
     "output_type": "execute_result"
    }
   ],
   "source": [
    "x[4:7]#切片的特点是左闭右开"
   ]
  },
  {
   "cell_type": "code",
   "execution_count": 40,
   "metadata": {},
   "outputs": [
    {
     "data": {
      "text/plain": [
       "array([0, 1, 2])"
      ]
     },
     "execution_count": 40,
     "metadata": {},
     "output_type": "execute_result"
    }
   ],
   "source": [
    "x[0:3]"
   ]
  },
  {
   "cell_type": "code",
   "execution_count": 41,
   "metadata": {},
   "outputs": [
    {
     "data": {
      "text/plain": [
       "array([0, 2, 4, 6, 8])"
      ]
     },
     "execution_count": 41,
     "metadata": {},
     "output_type": "execute_result"
    }
   ],
   "source": [
    "x[::2]"
   ]
  },
  {
   "cell_type": "code",
   "execution_count": 42,
   "metadata": {},
   "outputs": [
    {
     "data": {
      "text/plain": [
       "array([1, 3, 5, 7, 9])"
      ]
     },
     "execution_count": 42,
     "metadata": {},
     "output_type": "execute_result"
    }
   ],
   "source": [
    "x[1::2]"
   ]
  },
  {
   "cell_type": "code",
   "execution_count": 43,
   "metadata": {},
   "outputs": [
    {
     "data": {
      "text/plain": [
       "array([9, 8, 7, 6, 5, 4, 3, 2, 1, 0])"
      ]
     },
     "execution_count": 43,
     "metadata": {},
     "output_type": "execute_result"
    }
   ],
   "source": [
    "x[::-1]"
   ]
  },
  {
   "cell_type": "code",
   "execution_count": 44,
   "metadata": {},
   "outputs": [
    {
     "data": {
      "text/plain": [
       "array([5, 3, 1])"
      ]
     },
     "execution_count": 44,
     "metadata": {},
     "output_type": "execute_result"
    }
   ],
   "source": [
    "x[5::-2]"
   ]
  },
  {
   "cell_type": "markdown",
   "metadata": {},
   "source": [
    "#### 2.多维子数组"
   ]
  },
  {
   "cell_type": "code",
   "execution_count": 45,
   "metadata": {},
   "outputs": [
    {
     "data": {
      "text/plain": [
       "array([[12,  5,  2,  4],\n",
       "       [ 7,  6,  8,  8],\n",
       "       [ 1,  6,  7,  7]])"
      ]
     },
     "execution_count": 45,
     "metadata": {},
     "output_type": "execute_result"
    }
   ],
   "source": [
    "#多维切片也采用同样的方式处理，用冒号分割。例如：\n",
    "x2"
   ]
  },
  {
   "cell_type": "code",
   "execution_count": 46,
   "metadata": {},
   "outputs": [
    {
     "data": {
      "text/plain": [
       "array([[12,  5,  2],\n",
       "       [ 7,  6,  8]])"
      ]
     },
     "execution_count": 46,
     "metadata": {},
     "output_type": "execute_result"
    }
   ],
   "source": [
    "x2[:2, :3]"
   ]
  },
  {
   "cell_type": "code",
   "execution_count": 47,
   "metadata": {},
   "outputs": [
    {
     "data": {
      "text/plain": [
       "array([[12,  2],\n",
       "       [ 7,  8],\n",
       "       [ 1,  7]])"
      ]
     },
     "execution_count": 47,
     "metadata": {},
     "output_type": "execute_result"
    }
   ],
   "source": [
    "x2[:3, ::2]"
   ]
  },
  {
   "cell_type": "code",
   "execution_count": 48,
   "metadata": {},
   "outputs": [
    {
     "data": {
      "text/plain": [
       "array([[ 7,  7,  6,  1],\n",
       "       [ 8,  8,  6,  7],\n",
       "       [ 4,  2,  5, 12]])"
      ]
     },
     "execution_count": 48,
     "metadata": {},
     "output_type": "execute_result"
    }
   ],
   "source": [
    "x2[::-1, ::-1]"
   ]
  },
  {
   "cell_type": "markdown",
   "metadata": {},
   "source": [
    "#### 3.获取数组的行和列"
   ]
  },
  {
   "cell_type": "code",
   "execution_count": 49,
   "metadata": {},
   "outputs": [
    {
     "name": "stdout",
     "output_type": "stream",
     "text": [
      "[12  7  1]\n"
     ]
    }
   ],
   "source": [
    "#获取单行和单列，将索引与切片组合起来实现这个功能，用一个冒号表示空切片：\n",
    "print(x2[:, 0])"
   ]
  },
  {
   "cell_type": "code",
   "execution_count": 50,
   "metadata": {},
   "outputs": [
    {
     "name": "stdout",
     "output_type": "stream",
     "text": [
      "[12  5  2  4]\n"
     ]
    }
   ],
   "source": [
    "print(x2[0, :])"
   ]
  },
  {
   "cell_type": "code",
   "execution_count": 51,
   "metadata": {},
   "outputs": [
    {
     "name": "stdout",
     "output_type": "stream",
     "text": [
      "[12  5  2  4]\n"
     ]
    }
   ],
   "source": [
    "#获取行可以使用特殊写法\n",
    "print(x2[0])"
   ]
  },
  {
   "cell_type": "markdown",
   "metadata": {},
   "source": [
    "#### 4.非副本视图的子数组(与列表相比)"
   ]
  },
  {
   "cell_type": "code",
   "execution_count": 52,
   "metadata": {},
   "outputs": [
    {
     "name": "stdout",
     "output_type": "stream",
     "text": [
      "[[12  5  2  4]\n",
      " [ 7  6  8  8]\n",
      " [ 1  6  7  7]]\n"
     ]
    }
   ],
   "source": [
    "#NumPy数组切片返回的是数组数据的视图，Python列表切片返回的是数值数据的副本\n",
    "#例如之前的二维数组：\n",
    "print(x2)"
   ]
  },
  {
   "cell_type": "code",
   "execution_count": 54,
   "metadata": {},
   "outputs": [
    {
     "name": "stdout",
     "output_type": "stream",
     "text": [
      "[[12  5]\n",
      " [ 7  6]]\n"
     ]
    }
   ],
   "source": [
    "x2_sub = x2[:2, :2]\n",
    "print(x2_sub)"
   ]
  },
  {
   "cell_type": "code",
   "execution_count": 55,
   "metadata": {},
   "outputs": [
    {
     "name": "stdout",
     "output_type": "stream",
     "text": [
      "[[99  5]\n",
      " [ 7  6]]\n"
     ]
    }
   ],
   "source": [
    "x2_sub[0, 0] = 99\n",
    "print(x2_sub)"
   ]
  },
  {
   "cell_type": "code",
   "execution_count": 56,
   "metadata": {},
   "outputs": [
    {
     "name": "stdout",
     "output_type": "stream",
     "text": [
      "[[99  5  2  4]\n",
      " [ 7  6  8  8]\n",
      " [ 1  6  7  7]]\n"
     ]
    }
   ],
   "source": [
    "print(x2)"
   ]
  },
  {
   "cell_type": "markdown",
   "metadata": {},
   "source": [
    "#### 5.创建数组的副本(虽然视图好，但是我还是要复制)"
   ]
  },
  {
   "cell_type": "code",
   "execution_count": 59,
   "metadata": {},
   "outputs": [
    {
     "name": "stdout",
     "output_type": "stream",
     "text": [
      "[[99  5]\n",
      " [ 7  6]]\n"
     ]
    }
   ],
   "source": [
    "x2_sub_copy = x2[:2, :2].copy()\n",
    "print(x2_sub_copy)"
   ]
  },
  {
   "cell_type": "code",
   "execution_count": 61,
   "metadata": {},
   "outputs": [
    {
     "name": "stdout",
     "output_type": "stream",
     "text": [
      "[[42  5]\n",
      " [ 7  6]]\n"
     ]
    }
   ],
   "source": [
    "#修改这个子数组，原始的数组不会被改变：\n",
    "x2_sub_copy[0, 0] = 42\n",
    "print(x2_sub_copy)"
   ]
  },
  {
   "cell_type": "code",
   "execution_count": 62,
   "metadata": {},
   "outputs": [
    {
     "name": "stdout",
     "output_type": "stream",
     "text": [
      "[[99  5  2  4]\n",
      " [ 7  6  8  8]\n",
      " [ 1  6  7  7]]\n"
     ]
    }
   ],
   "source": [
    "print(x2)"
   ]
  },
  {
   "cell_type": "markdown",
   "metadata": {},
   "source": [
    "### 2.2.4 数组的变形"
   ]
  },
  {
   "cell_type": "code",
   "execution_count": 63,
   "metadata": {},
   "outputs": [
    {
     "name": "stdout",
     "output_type": "stream",
     "text": [
      "[[1 2 3]\n",
      " [4 5 6]\n",
      " [7 8 9]]\n"
     ]
    }
   ],
   "source": [
    "#数组变形最灵活的实现方式是通过reshape()函数来实现。例如我希望将数字1~9放入一个3*3的矩阵中，可以采用如下方法：\n",
    "grid = np.arange(1, 10).reshape((3, 3))\n",
    "print(grid)"
   ]
  },
  {
   "cell_type": "markdown",
   "metadata": {},
   "source": [
    "请注意，如果希望该方法可行，那么原始数组的大小必须和变形后数组的大小一致。如果满足这个条件，reshape方法将会用到原始数组的一个非副本视图。但实际情况是，在非连续的数据缓存的情况下，返回非副本试图往往不可能实现。\n",
    "\n",
    "另一个常见的变形模式是将一个一维数组转变为二维的行或列的矩阵，你也可以通过reshape方法来实现，或者更简单的在一个切片操作中利用newaxis关键字：\n"
   ]
  },
  {
   "cell_type": "code",
   "execution_count": 64,
   "metadata": {},
   "outputs": [
    {
     "data": {
      "text/plain": [
       "array([[1, 2, 3]])"
      ]
     },
     "execution_count": 64,
     "metadata": {},
     "output_type": "execute_result"
    }
   ],
   "source": [
    "x = np.array([1, 2, 3])\n",
    "x.reshape((1, 3))#通过变形获得的行向量"
   ]
  },
  {
   "cell_type": "code",
   "execution_count": 65,
   "metadata": {},
   "outputs": [
    {
     "data": {
      "text/plain": [
       "array([[1, 2, 3]])"
      ]
     },
     "execution_count": 65,
     "metadata": {},
     "output_type": "execute_result"
    }
   ],
   "source": [
    "x[np.newaxis, :]#通过newaxis获得的行向量"
   ]
  },
  {
   "cell_type": "code",
   "execution_count": 66,
   "metadata": {},
   "outputs": [
    {
     "data": {
      "text/plain": [
       "array([[1],\n",
       "       [2],\n",
       "       [3]])"
      ]
     },
     "execution_count": 66,
     "metadata": {},
     "output_type": "execute_result"
    }
   ],
   "source": [
    "x.reshape((3, 1))#通过变形获得的列向量"
   ]
  },
  {
   "cell_type": "code",
   "execution_count": 68,
   "metadata": {},
   "outputs": [
    {
     "data": {
      "text/plain": [
       "array([[1],\n",
       "       [2],\n",
       "       [3]])"
      ]
     },
     "execution_count": 68,
     "metadata": {},
     "output_type": "execute_result"
    }
   ],
   "source": [
    "x[:, np.newaxis]#通过newaxis获得的列向量"
   ]
  },
  {
   "cell_type": "markdown",
   "metadata": {},
   "source": [
    ">令人害怕的一句话，在本书的其他部分中，你将看到很多这种变形!"
   ]
  },
  {
   "cell_type": "markdown",
   "metadata": {},
   "source": [
    "### 2.2.5 数组的拼接和分裂"
   ]
  },
  {
   "cell_type": "markdown",
   "metadata": {},
   "source": [
    "#### 1.数组的拼接"
   ]
  },
  {
   "cell_type": "code",
   "execution_count": 13,
   "metadata": {},
   "outputs": [
    {
     "data": {
      "text/plain": [
       "array([1, 2, 3, 3, 2, 1])"
      ]
     },
     "execution_count": 13,
     "metadata": {},
     "output_type": "execute_result"
    }
   ],
   "source": [
    "import numpy as np\n",
    "x = np.array([1, 2, 3])\n",
    "y = np.array([3, 2, 1])\n",
    "np.concatenate([x, y])"
   ]
  },
  {
   "cell_type": "code",
   "execution_count": 14,
   "metadata": {},
   "outputs": [
    {
     "name": "stdout",
     "output_type": "stream",
     "text": [
      "[ 1  2  3  3  2  1 99 99 99]\n"
     ]
    }
   ],
   "source": [
    "z = [99, 99, 99]\n",
    "print(np.concatenate([x, y, z]))"
   ]
  },
  {
   "cell_type": "code",
   "execution_count": 15,
   "metadata": {},
   "outputs": [],
   "source": [
    "grid = np.array([[1, 2, 3],\n",
    "                 [4, 5, 6]])"
   ]
  },
  {
   "cell_type": "code",
   "execution_count": 16,
   "metadata": {},
   "outputs": [
    {
     "data": {
      "text/plain": [
       "array([[1, 2, 3],\n",
       "       [4, 5, 6],\n",
       "       [1, 2, 3],\n",
       "       [4, 5, 6]])"
      ]
     },
     "execution_count": 16,
     "metadata": {},
     "output_type": "execute_result"
    }
   ],
   "source": [
    "#沿着第一个轴拼接\n",
    "np.concatenate([grid, grid])"
   ]
  },
  {
   "cell_type": "code",
   "execution_count": 17,
   "metadata": {},
   "outputs": [
    {
     "data": {
      "text/plain": [
       "array([[1, 2, 3, 1, 2, 3],\n",
       "       [4, 5, 6, 4, 5, 6]])"
      ]
     },
     "execution_count": 17,
     "metadata": {},
     "output_type": "execute_result"
    }
   ],
   "source": [
    "#沿着第二个轴拼接\n",
    "np.concatenate([grid, grid], axis = 1)"
   ]
  },
  {
   "cell_type": "code",
   "execution_count": 18,
   "metadata": {},
   "outputs": [
    {
     "data": {
      "text/plain": [
       "array([[1, 2, 3],\n",
       "       [9, 8, 7],\n",
       "       [6, 5, 4]])"
      ]
     },
     "execution_count": 18,
     "metadata": {},
     "output_type": "execute_result"
    }
   ],
   "source": [
    "#沿着固定维度处理数组\n",
    "x = np.array([1, 2, 3])\n",
    "grid = np.array([[9, 8, 7],\n",
    "                [6, 5, 4]])\n",
    "np.vstack([x, grid])#垂直栈数组"
   ]
  },
  {
   "cell_type": "code",
   "execution_count": 19,
   "metadata": {},
   "outputs": [
    {
     "data": {
      "text/plain": [
       "array([[ 9,  8,  7, 99],\n",
       "       [ 6,  5,  4, 99]])"
      ]
     },
     "execution_count": 19,
     "metadata": {},
     "output_type": "execute_result"
    }
   ],
   "source": [
    "y = np.array([[99],\n",
    "            [99]])\n",
    "np.hstack([grid, y])"
   ]
  },
  {
   "cell_type": "markdown",
   "metadata": {},
   "source": [
    "#### 2. 数组的分裂"
   ]
  },
  {
   "cell_type": "markdown",
   "metadata": {},
   "source": [
    "与拼接相反的过程是分裂，传递索引列表作为参数，索引列表记录的是分裂点的位置"
   ]
  },
  {
   "cell_type": "code",
   "execution_count": 20,
   "metadata": {},
   "outputs": [
    {
     "name": "stdout",
     "output_type": "stream",
     "text": [
      "[1 2 3] [99 99] [3 2 1]\n"
     ]
    }
   ],
   "source": [
    "x = [1, 2, 3, 99, 99, 3, 2, 1]\n",
    "x1, x2, x3 = np.split(x, [3, 5])\n",
    "print(x1, x2, x3)"
   ]
  },
  {
   "cell_type": "code",
   "execution_count": 21,
   "metadata": {},
   "outputs": [
    {
     "data": {
      "text/plain": [
       "array([[ 0,  1,  2,  3],\n",
       "       [ 4,  5,  6,  7],\n",
       "       [ 8,  9, 10, 11],\n",
       "       [12, 13, 14, 15]])"
      ]
     },
     "execution_count": 21,
     "metadata": {},
     "output_type": "execute_result"
    }
   ],
   "source": [
    "grid = np.arange(16).reshape((4, 4))\n",
    "grid"
   ]
  },
  {
   "cell_type": "code",
   "execution_count": 22,
   "metadata": {},
   "outputs": [
    {
     "name": "stdout",
     "output_type": "stream",
     "text": [
      "[[ 8  9 10 11]\n",
      " [12 13 14 15]]\n",
      "[[0 1 2 3]\n",
      " [4 5 6 7]]\n"
     ]
    }
   ],
   "source": [
    "upper, lower = np.vsplit(grid, [2])\n",
    "print(lower)\n",
    "print(upper)"
   ]
  },
  {
   "cell_type": "code",
   "execution_count": 23,
   "metadata": {},
   "outputs": [
    {
     "name": "stdout",
     "output_type": "stream",
     "text": [
      "[[ 0  1]\n",
      " [ 4  5]\n",
      " [ 8  9]\n",
      " [12 13]]\n",
      "[[ 2  3]\n",
      " [ 6  7]\n",
      " [10 11]\n",
      " [14 15]]\n"
     ]
    }
   ],
   "source": [
    "left, right = np.hsplit(grid, [2])\n",
    "print(left)\n",
    "print(right)"
   ]
  },
  {
   "cell_type": "markdown",
   "metadata": {},
   "source": [
    "## 2.3 通用函数"
   ]
  },
  {
   "cell_type": "code",
   "execution_count": 24,
   "metadata": {},
   "outputs": [
    {
     "name": "stdout",
     "output_type": "stream",
     "text": [
      "[[0 1 2]\n",
      " [3 4 5]\n",
      " [6 7 8]]\n"
     ]
    },
    {
     "data": {
      "text/plain": [
       "array([[  1,   2,   4],\n",
       "       [  8,  16,  32],\n",
       "       [ 64, 128, 256]], dtype=int32)"
      ]
     },
     "execution_count": 24,
     "metadata": {},
     "output_type": "execute_result"
    }
   ],
   "source": [
    "x = np.arange(9).reshape((3, 3))\n",
    "print(x)\n",
    "2 ** x"
   ]
  },
  {
   "cell_type": "markdown",
   "metadata": {},
   "source": [
    "### 2.3.3 探索NumPy的通用函数"
   ]
  },
  {
   "cell_type": "markdown",
   "metadata": {},
   "source": [
    "通用函数有两种存在形式：一元通用函数和二元通用函数："
   ]
  },
  {
   "cell_type": "markdown",
   "metadata": {},
   "source": [
    "#### 1.数组的运算"
   ]
  },
  {
   "cell_type": "code",
   "execution_count": 25,
   "metadata": {},
   "outputs": [
    {
     "name": "stdout",
     "output_type": "stream",
     "text": [
      "x     = [0 1 2 3]\n",
      "x + 5 = [5 6 7 8]\n",
      "x - 5 = [-5 -4 -3 -2]\n",
      "x * 2 = [0 2 4 6]\n",
      "x / 2 = [0.  0.5 1.  1.5]\n",
      "x // 2 = [0 0 1 1]\n"
     ]
    }
   ],
   "source": [
    "#加减乘除直接用\n",
    "x = np.arange(4)\n",
    "print(\"x     =\", x)\n",
    "print(\"x + 5 =\", x + 5)\n",
    "print(\"x - 5 =\", x - 5)\n",
    "print(\"x * 2 =\", x * 2)\n",
    "print(\"x / 2 =\", x / 2)\n",
    "print(\"x // 2 =\", x // 2)#地板除法，不知道哪位神仙起的好名字"
   ]
  },
  {
   "cell_type": "markdown",
   "metadata": {},
   "source": [
    "#### 3.三角函数"
   ]
  },
  {
   "cell_type": "code",
   "execution_count": 26,
   "metadata": {},
   "outputs": [],
   "source": [
    "#定义一个角度数组\n",
    "theta = np.linspace(0, np.pi, 3)"
   ]
  },
  {
   "cell_type": "code",
   "execution_count": 27,
   "metadata": {},
   "outputs": [
    {
     "name": "stdout",
     "output_type": "stream",
     "text": [
      "theta      = [0.         1.57079633 3.14159265]\n",
      "sin(theta) = [0.0000000e+00 1.0000000e+00 1.2246468e-16]\n",
      "cos(theta) = [ 1.000000e+00  6.123234e-17 -1.000000e+00]\n",
      "tan(theta) = [ 0.00000000e+00  1.63312394e+16 -1.22464680e-16]\n",
      "arcsin(x) = [-1.57079633  0.          1.57079633]\n",
      "arccos(x) = [3.14159265 1.57079633 0.        ]\n",
      "arctan(x) = [-0.78539816  0.          0.78539816]\n"
     ]
    }
   ],
   "source": [
    "print(\"theta      =\", theta)\n",
    "print(\"sin(theta) =\", np.sin(theta))\n",
    "print(\"cos(theta) =\", np.cos(theta))\n",
    "print(\"tan(theta) =\", np.tan(theta))\n",
    "x = [-1, 0, 1]\n",
    "print(\"arcsin(x) =\", np.arcsin(x))\n",
    "print(\"arccos(x) =\", np.arccos(x))\n",
    "print(\"arctan(x) =\", np.arctan(x))"
   ]
  },
  {
   "cell_type": "markdown",
   "metadata": {},
   "source": [
    "#### 4.指数和对数"
   ]
  },
  {
   "cell_type": "code",
   "execution_count": 28,
   "metadata": {},
   "outputs": [
    {
     "name": "stdout",
     "output_type": "stream",
     "text": [
      "x   = [1, 2, 3]\n",
      "e^x = [ 2.71828183  7.3890561  20.08553692]\n",
      "2^x = [2. 4. 8.]\n",
      "3^x = [ 3  9 27]\n"
     ]
    }
   ],
   "source": [
    "x = [1, 2, 3]\n",
    "print(\"x   =\", x)\n",
    "print(\"e^x =\", np.exp(x))\n",
    "print(\"2^x =\", np.exp2(x))\n",
    "print(\"3^x =\", np.power(3, x))"
   ]
  },
  {
   "cell_type": "code",
   "execution_count": 29,
   "metadata": {},
   "outputs": [
    {
     "name": "stdout",
     "output_type": "stream",
     "text": [
      "x       = [1, 2, 4, 10]\n",
      "ln(x)   = [0.         0.69314718 1.38629436 2.30258509]\n",
      "log2(x) = [0.         1.         2.         3.32192809]\n",
      "log10(x)= [0.         0.30103    0.60205999 1.        ]\n"
     ]
    }
   ],
   "source": [
    "x = [1, 2, 4, 10]\n",
    "print(\"x       =\", x)\n",
    "print(\"ln(x)   =\", np.log(x))\n",
    "print(\"log2(x) =\", np.log2(x))\n",
    "print(\"log10(x)=\", np.log10(x))"
   ]
  },
  {
   "cell_type": "markdown",
   "metadata": {},
   "source": [
    "#### 5.专用的通用函数"
   ]
  },
  {
   "cell_type": "code",
   "execution_count": 30,
   "metadata": {},
   "outputs": [
    {
     "name": "stdout",
     "output_type": "stream",
     "text": [
      "gamma(x)     = [1.0000e+00 2.4000e+01 3.6288e+05]\n",
      "ln|gamma(x)| = [ 0.          3.17805383 12.80182748]\n",
      "beta(x, 2)   = [0.5        0.03333333 0.00909091]\n"
     ]
    }
   ],
   "source": [
    "from scipy import special\n",
    "x = [1, 5, 10]\n",
    "print(\"gamma(x)     =\", special.gamma(x))\n",
    "print(\"ln|gamma(x)| =\", special.gammaln(x))\n",
    "print(\"beta(x, 2)   =\", special.beta(x, 2))"
   ]
  },
  {
   "cell_type": "markdown",
   "metadata": {},
   "source": [
    "> **Get一个新技能！Yeah！**"
   ]
  },
  {
   "cell_type": "markdown",
   "metadata": {},
   "source": [
    "### 2.3.4 高级的通用函数特性"
   ]
  },
  {
   "cell_type": "markdown",
   "metadata": {},
   "source": [
    "#### 1.指定输出"
   ]
  },
  {
   "cell_type": "markdown",
   "metadata": {},
   "source": [
    "在进行大量运算时，有时候指定一个用于存放运算结果的数组是非常有用的。不同于创建临时数组，你可以用这个特性将计算结果直接写入你期望的存储位置，所有的通用函数都可以通过out参数来指定计算结果的存放位置："
   ]
  },
  {
   "cell_type": "code",
   "execution_count": 31,
   "metadata": {},
   "outputs": [
    {
     "name": "stdout",
     "output_type": "stream",
     "text": [
      "[ 0. 10. 20. 30. 40.]\n"
     ]
    }
   ],
   "source": [
    "import numpy as np\n",
    "x = np.arange(5)\n",
    "y = np.empty(5)\n",
    "np.multiply(x, 10, out = y)\n",
    "print(y)"
   ]
  },
  {
   "cell_type": "markdown",
   "metadata": {},
   "source": [
    "这个特性也可以被用作数组视图，例如可以将计算结果写入指定数组的每隔一个元素的位置："
   ]
  },
  {
   "cell_type": "code",
   "execution_count": 32,
   "metadata": {},
   "outputs": [
    {
     "name": "stdout",
     "output_type": "stream",
     "text": [
      "[ 1.  0.  2.  0.  4.  0.  8.  0. 16.  0.]\n"
     ]
    }
   ],
   "source": [
    "y = np.zeros(10)\n",
    "np.power(2, x, out = y[::2])\n",
    "print(y)"
   ]
  },
  {
   "cell_type": "markdown",
   "metadata": {},
   "source": [
    "#### 2.聚合"
   ]
  },
  {
   "cell_type": "markdown",
   "metadata": {},
   "source": [
    "二元通用函数有些非常有趣的聚合功能，这些聚合可以直接在对象上计算。例如，如果我们希望用一个特定的运算reduce一个数组，那么可以用任何通用函数的reduce方法。一个reduce方法会对给定的元素和操作重复执行，直到得到单个的结果。"
   ]
  },
  {
   "cell_type": "code",
   "execution_count": 33,
   "metadata": {},
   "outputs": [
    {
     "data": {
      "text/plain": [
       "15"
      ]
     },
     "execution_count": 33,
     "metadata": {},
     "output_type": "execute_result"
    }
   ],
   "source": [
    "x = np.arange(1, 6)\n",
    "#np.add(x) 无效操作\n",
    "np.add.reduce(x)"
   ]
  },
  {
   "cell_type": "code",
   "execution_count": 34,
   "metadata": {},
   "outputs": [
    {
     "data": {
      "text/plain": [
       "120"
      ]
     },
     "execution_count": 34,
     "metadata": {},
     "output_type": "execute_result"
    }
   ],
   "source": [
    "np.multiply.reduce(x)"
   ]
  },
  {
   "cell_type": "code",
   "execution_count": 35,
   "metadata": {},
   "outputs": [
    {
     "data": {
      "text/plain": [
       "array([ 1,  3,  6, 10, 15], dtype=int32)"
      ]
     },
     "execution_count": 35,
     "metadata": {},
     "output_type": "execute_result"
    }
   ],
   "source": [
    "np.add.accumulate(x)"
   ]
  },
  {
   "cell_type": "code",
   "execution_count": 36,
   "metadata": {},
   "outputs": [
    {
     "data": {
      "text/plain": [
       "array([  1,   2,   6,  24, 120], dtype=int32)"
      ]
     },
     "execution_count": 36,
     "metadata": {},
     "output_type": "execute_result"
    }
   ],
   "source": [
    "np.multiply.accumulate(x)"
   ]
  },
  {
   "cell_type": "markdown",
   "metadata": {},
   "source": [
    "#### 3.外积"
   ]
  },
  {
   "cell_type": "markdown",
   "metadata": {},
   "source": [
    "最后，任何通用函数都可以用outer方法来获得两个不同输入数组所有元素对的函数运算结果。这意味着你可以用一行代码实现一个乘法表："
   ]
  },
  {
   "cell_type": "code",
   "execution_count": 37,
   "metadata": {},
   "outputs": [
    {
     "data": {
      "text/plain": [
       "array([[ 1,  2,  3,  4,  5],\n",
       "       [ 2,  4,  6,  8, 10],\n",
       "       [ 3,  6,  9, 12, 15],\n",
       "       [ 4,  8, 12, 16, 20],\n",
       "       [ 5, 10, 15, 20, 25]])"
      ]
     },
     "execution_count": 37,
     "metadata": {},
     "output_type": "execute_result"
    }
   ],
   "source": [
    "x = np.arange(1, 6)\n",
    "np.multiply.outer(x, x)"
   ]
  },
  {
   "cell_type": "markdown",
   "metadata": {},
   "source": [
    "通用函数另外一个非常有用的特习惯是它能操作不同大小和形状的数组，一组这样的操作被称为广播。"
   ]
  },
  {
   "cell_type": "markdown",
   "metadata": {},
   "source": [
    "> 欲知后事如何，请听下下回分解！"
   ]
  },
  {
   "cell_type": "markdown",
   "metadata": {},
   "source": [
    "## 2.4 聚合"
   ]
  },
  {
   "cell_type": "markdown",
   "metadata": {},
   "source": [
    "### 2.4.1 数组值求和"
   ]
  },
  {
   "cell_type": "code",
   "execution_count": 45,
   "metadata": {},
   "outputs": [
    {
     "data": {
      "text/plain": [
       "52.08219955075707"
      ]
     },
     "execution_count": 45,
     "metadata": {},
     "output_type": "execute_result"
    }
   ],
   "source": [
    "L = np.random.random(100)\n",
    "sum(L)"
   ]
  },
  {
   "cell_type": "code",
   "execution_count": 47,
   "metadata": {},
   "outputs": [
    {
     "data": {
      "text/plain": [
       "52.082199550757075"
      ]
     },
     "execution_count": 47,
     "metadata": {},
     "output_type": "execute_result"
    }
   ],
   "source": [
    "np.sum(L)"
   ]
  },
  {
   "cell_type": "markdown",
   "metadata": {},
   "source": [
    "NumPy的sum函数在编译码中执行操作，所以NumPy的操作计算得更快一些："
   ]
  },
  {
   "cell_type": "code",
   "execution_count": 50,
   "metadata": {},
   "outputs": [
    {
     "name": "stdout",
     "output_type": "stream",
     "text": [
      "81.5 ms ± 2.47 ms per loop (mean ± std. dev. of 7 runs, 10 loops each)\n",
      "1.1 ms ± 75.1 µs per loop (mean ± std. dev. of 7 runs, 1000 loops each)\n"
     ]
    }
   ],
   "source": [
    "big_array = np.random.rand(1000000)\n",
    "%timeit sum(big_array)\n",
    "%timeit np.sum(big_array)#数百倍的差距！"
   ]
  },
  {
   "cell_type": "markdown",
   "metadata": {},
   "source": [
    "### 2.4.2 最大值和最小值"
   ]
  },
  {
   "cell_type": "code",
   "execution_count": 51,
   "metadata": {},
   "outputs": [
    {
     "data": {
      "text/plain": [
       "(3.5940645387588788e-06, 0.9999961593181198)"
      ]
     },
     "execution_count": 51,
     "metadata": {},
     "output_type": "execute_result"
    }
   ],
   "source": [
    "min(big_array), max(big_array)"
   ]
  },
  {
   "cell_type": "code",
   "execution_count": 52,
   "metadata": {},
   "outputs": [
    {
     "data": {
      "text/plain": [
       "(3.5940645387588788e-06, 0.9999961593181198)"
      ]
     },
     "execution_count": 52,
     "metadata": {},
     "output_type": "execute_result"
    }
   ],
   "source": [
    "np.min(big_array), np.max(big_array)"
   ]
  },
  {
   "cell_type": "code",
   "execution_count": 56,
   "metadata": {},
   "outputs": [
    {
     "data": {
      "text/plain": [
       "(3.5940645387588788e-06, 0.9999961593181198)"
      ]
     },
     "execution_count": 56,
     "metadata": {},
     "output_type": "execute_result"
    }
   ],
   "source": [
    "big_array.min(), big_array.max()"
   ]
  },
  {
   "cell_type": "markdown",
   "metadata": {},
   "source": [
    "#### 1.多维度聚合"
   ]
  },
  {
   "cell_type": "markdown",
   "metadata": {},
   "source": [
    "沿着一行或一列聚合"
   ]
  },
  {
   "cell_type": "code",
   "execution_count": 62,
   "metadata": {},
   "outputs": [
    {
     "name": "stdout",
     "output_type": "stream",
     "text": [
      "[[0.93220533 0.26758122 0.23745799 0.13918426]\n",
      " [0.25426608 0.59479903 0.23185794 0.42799651]\n",
      " [0.00396412 0.92621293 0.01127409 0.13909493]]\n"
     ]
    }
   ],
   "source": [
    "M = np.random.random((3, 4))\n",
    "print(M)"
   ]
  },
  {
   "cell_type": "code",
   "execution_count": 63,
   "metadata": {},
   "outputs": [
    {
     "data": {
      "text/plain": [
       "4.165894427510541"
      ]
     },
     "execution_count": 63,
     "metadata": {},
     "output_type": "execute_result"
    }
   ],
   "source": [
    "M.sum()"
   ]
  },
  {
   "cell_type": "code",
   "execution_count": 64,
   "metadata": {},
   "outputs": [
    {
     "data": {
      "text/plain": [
       "array([0.00396412, 0.26758122, 0.01127409, 0.13909493])"
      ]
     },
     "execution_count": 64,
     "metadata": {},
     "output_type": "execute_result"
    }
   ],
   "source": [
    "M.min(axis = 0)"
   ]
  },
  {
   "cell_type": "code",
   "execution_count": 65,
   "metadata": {},
   "outputs": [
    {
     "data": {
      "text/plain": [
       "array([0.93220533, 0.59479903, 0.92621293])"
      ]
     },
     "execution_count": 65,
     "metadata": {},
     "output_type": "execute_result"
    }
   ],
   "source": [
    "M.max(axis = 1)"
   ]
  },
  {
   "cell_type": "markdown",
   "metadata": {},
   "source": [
    ">** axis 表示按照方向折叠的维度。**\n",
    "- 0表示折叠成行，按列聚合。\n",
    "- 1表示折叠成列，按行聚合。"
   ]
  },
  {
   "cell_type": "markdown",
   "metadata": {},
   "source": [
    "### 2.4.3 示例：美国总统的身高是多少"
   ]
  },
  {
   "cell_type": "code",
   "execution_count": 67,
   "metadata": {},
   "outputs": [],
   "source": [
    "#!head -4 PythonDataScienceHandbook-master/notebooks/data/president_heights.csv\n",
    "#不知这串代码有何妙用"
   ]
  },
  {
   "cell_type": "markdown",
   "metadata": {},
   "source": [
    "#第一次用Pandas包来读文件并抽取身高信息\n",
    "import pandas as pd\n",
    "data = pd.read_csv('PythonDataScienceHandbook-master/notebooks/data/president_heights.csv')\n",
    "heights = np.array(data['height(cm)'])\n",
    "print(heights)"
   ]
  },
  {
   "cell_type": "code",
   "execution_count": 71,
   "metadata": {},
   "outputs": [
    {
     "name": "stdout",
     "output_type": "stream",
     "text": [
      "179.73809523809524\n",
      "6.931843442745892\n",
      "163\n",
      "193\n"
     ]
    }
   ],
   "source": [
    "print(heights.mean())\n",
    "print(heights.std())\n",
    "print(heights.min())\n",
    "print(heights.max())"
   ]
  },
  {
   "cell_type": "code",
   "execution_count": 74,
   "metadata": {},
   "outputs": [
    {
     "name": "stdout",
     "output_type": "stream",
     "text": [
      "174.25\n",
      "183.0\n",
      "182.0\n",
      "182.0\n"
     ]
    }
   ],
   "source": [
    "#分位数的概念\n",
    "print(np.percentile(heights, 25))\n",
    "print(np.percentile(heights, 75))\n",
    "print(np.percentile(heights, 50))\n",
    "print(np.median(heights))"
   ]
  },
  {
   "cell_type": "code",
   "execution_count": 82,
   "metadata": {},
   "outputs": [
    {
     "data": {
      "text/plain": [
       "Text(0,0.5,'number')"
      ]
     },
     "execution_count": 82,
     "metadata": {},
     "output_type": "execute_result"
    },
    {
     "data": {
      "image/png": "[encoded data removed]",
      "text/plain": [
       "<Figure size 432x288 with 1 Axes>"
      ]
     },
     "metadata": {},
     "output_type": "display_data"
    }
   ],
   "source": [
    "#数据可视化也接触下\n",
    "%matplotlib inline\n",
    "import matplotlib.pyplot as plt\n",
    "import seaborn; seaborn.set()\n",
    "plt.hist(heights)\n",
    "plt.title('HDUP')\n",
    "plt.xlabel('height(cm)')\n",
    "plt.ylabel('number')"
   ]
  },
  {
   "cell_type": "markdown",
   "metadata": {},
   "source": [
    "## 2.5 数组的计算：广播"
   ]
  },
  {
   "cell_type": "markdown",
   "metadata": {},
   "source": [
    "### 2.5.1 广播的介绍"
   ]
  },
  {
   "cell_type": "code",
   "execution_count": 83,
   "metadata": {},
   "outputs": [
    {
     "data": {
      "text/plain": [
       "array([5, 6, 7])"
      ]
     },
     "execution_count": 83,
     "metadata": {},
     "output_type": "execute_result"
    }
   ],
   "source": [
    "a = np.array([0, 1, 2])\n",
    "b = np.array([5, 5, 5])\n",
    "a + b"
   ]
  },
  {
   "cell_type": "code",
   "execution_count": 84,
   "metadata": {},
   "outputs": [
    {
     "data": {
      "text/plain": [
       "array([5, 6, 7])"
      ]
     },
     "execution_count": 84,
     "metadata": {},
     "output_type": "execute_result"
    }
   ],
   "source": [
    "a + 5"
   ]
  },
  {
   "cell_type": "markdown",
   "metadata": {},
   "source": [
    ">可以把广播操作理解成对数组的扩展操作"
   ]
  },
  {
   "cell_type": "code",
   "execution_count": 85,
   "metadata": {},
   "outputs": [
    {
     "data": {
      "text/plain": [
       "array([[1., 1., 1.],\n",
       "       [1., 1., 1.],\n",
       "       [1., 1., 1.]])"
      ]
     },
     "execution_count": 85,
     "metadata": {},
     "output_type": "execute_result"
    }
   ],
   "source": [
    "M = np.ones((3, 3))\n",
    "M"
   ]
  },
  {
   "cell_type": "code",
   "execution_count": 86,
   "metadata": {},
   "outputs": [
    {
     "data": {
      "text/plain": [
       "array([[1., 2., 3.],\n",
       "       [1., 2., 3.],\n",
       "       [1., 2., 3.]])"
      ]
     },
     "execution_count": 86,
     "metadata": {},
     "output_type": "execute_result"
    }
   ],
   "source": [
    "M + a "
   ]
  },
  {
   "cell_type": "code",
   "execution_count": 88,
   "metadata": {},
   "outputs": [
    {
     "name": "stdout",
     "output_type": "stream",
     "text": [
      "[0 1 2]\n",
      "[[0]\n",
      " [1]\n",
      " [2]]\n"
     ]
    }
   ],
   "source": [
    "a = np.arange(3)\n",
    "b = np.arange(3)[:, np.newaxis]\n",
    "print(a)\n",
    "print(b)"
   ]
  },
  {
   "cell_type": "code",
   "execution_count": 89,
   "metadata": {},
   "outputs": [
    {
     "data": {
      "text/plain": [
       "array([[0, 1, 2],\n",
       "       [1, 2, 3],\n",
       "       [2, 3, 4]])"
      ]
     },
     "execution_count": 89,
     "metadata": {},
     "output_type": "execute_result"
    }
   ],
   "source": [
    "a + b"
   ]
  },
  {
   "cell_type": "markdown",
   "metadata": {},
   "source": [
    "### 2.5.2 广播的规则"
   ]
  },
  {
   "cell_type": "markdown",
   "metadata": {},
   "source": [
    "规则么...有三条，没一条看得懂\n",
    "* 规则1\n",
    "* 规则2\n",
    "* 规则3"
   ]
  },
  {
   "cell_type": "code",
   "execution_count": 93,
   "metadata": {},
   "outputs": [],
   "source": [
    "M = np.ones((2, 3))\n",
    "a = np.arange(3)\n",
    "# M.shape = (2, 3)\n",
    "# a.shape = (3, )"
   ]
  },
  {
   "cell_type": "markdown",
   "metadata": {},
   "source": [
    "### 2.5.3 广播的实际应用"
   ]
  },
  {
   "cell_type": "markdown",
   "metadata": {},
   "source": [
    "#### 1.数组的归一化"
   ]
  },
  {
   "cell_type": "code",
   "execution_count": 95,
   "metadata": {},
   "outputs": [
    {
     "data": {
      "text/plain": [
       "array([0.59950411, 0.48799318, 0.65076068])"
      ]
     },
     "execution_count": 95,
     "metadata": {},
     "output_type": "execute_result"
    }
   ],
   "source": [
    "X = np.random.random((10, 3))\n",
    "Xmean = X.mean(0)\n",
    "Xmean"
   ]
  },
  {
   "cell_type": "code",
   "execution_count": 96,
   "metadata": {},
   "outputs": [
    {
     "data": {
      "text/plain": [
       "array([-2.22044605e-17, -4.44089210e-17,  1.11022302e-17])"
      ]
     },
     "execution_count": 96,
     "metadata": {},
     "output_type": "execute_result"
    }
   ],
   "source": [
    "#现在从X数组的元素中减去这个均值实现归一化（该操作是一个广播操作）\n",
    "X_centered = X - Xmean\n",
    "X_centered.mean(0)"
   ]
  },
  {
   "cell_type": "markdown",
   "metadata": {},
   "source": [
    "#### 2.画一个二维函数"
   ]
  },
  {
   "cell_type": "markdown",
   "metadata": {},
   "source": [
    "广播的另一个非常有用的地方在于，它能基于二维函数显示图像。我们希望定义一个函数z = f(x, y)，可以用广播沿着数值区间计算该函数："
   ]
  },
  {
   "cell_type": "code",
   "execution_count": 111,
   "metadata": {},
   "outputs": [],
   "source": [
    "x = np.linspace(0, 5, 50)\n",
    "y = np.linspace(0, 5, 50)[:, np.newaxis]\n",
    "%config InlineBackend.figure_format = 'svg'"
   ]
  },
  {
   "cell_type": "code",
   "execution_count": 112,
   "metadata": {},
   "outputs": [
    {
     "data": {
      "image/svg+xml": [
       "<?xml version=\"1.0\" encoding=\"utf-8\" standalone=\"no\"?>\r\n",
       "<!DOCTYPE svg PUBLIC \"-//W3C//DTD SVG 1.1//EN\"\r\n",
       "  \"http://www.w3.org/Graphics/SVG/1.1/DTD/svg11.dtd\">\r\n",
       "<!-- Created with matplotlib (http://matplotlib.org/) -->\r\n",
       "<svg height=\"251.564219pt\" version=\"1.1\" viewBox=\"0 0 304.3145 251.564219\" width=\"304.3145pt\" xmlns=\"http://www.w3.org/2000/svg\" xmlns:xlink=\"http://www.w3.org/1999/xlink\">\r\n",
       " <defs>\r\n",
       "  <style type=\"text/css\">\r\n",
       "*{stroke-linecap:butt;stroke-linejoin:round;}\r\n",
       "  </style>\r\n",
       " </defs>\r\n",
       " <g id=\"figure_1\">\r\n",
       "  <g id=\"patch_1\">\r\n",
       "   <path d=\"M 0 251.564219 \r\n",
       "L 304.3145 251.564219 \r\n",
       "L 304.3145 0 \r\n",
       "L 0 0 \r\n",
       "z\r\n",
       "\" style=\"fill:#ffffff;\"/>\r\n",
       "  </g>\r\n",
       "  <g id=\"axes_1\">\r\n",
       "   <g id=\"patch_2\">\r\n",
       "    <path d=\"M 19.760938 228.218906 \r\n",
       "L 237.200937 228.218906 \r\n",
       "L 237.200937 10.778906 \r\n",
       "L 19.760938 10.778906 \r\n",
       "z\r\n",
       "\" style=\"fill:#eaeaf2;\"/>\r\n",
       "   </g>\r\n",
       "   <g clip-path=\"url(#pf924240ddb)\">\r\n",
       "    <image height=\"218\" id=\"image0b7c31f263\" transform=\"scale(1 -1)translate(0 -218)\" width=\"218\" x=\"19.760938\" xlink:href=\"data:image/png;base64,\r\n",
       "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\" y=\"-10.218906\"/>\r\n",
       "   </g>\r\n",
       "   <g id=\"matplotlib.axis_1\">\r\n",
       "    <g id=\"xtick_1\">\r\n",
       "     <g id=\"line2d_1\">\r\n",
       "      <path clip-path=\"url(#pf924240ddb)\" d=\"M 19.760938 228.218906 \r\n",
       "L 19.760938 10.778906 \r\n",
       "\" style=\"fill:none;stroke:#ffffff;stroke-linecap:round;\"/>\r\n",
       "     </g>\r\n",
       "     <g id=\"line2d_2\"/>\r\n",
       "     <g id=\"text_1\">\r\n",
       "      <!-- 0 -->\r\n",
       "      <defs>\r\n",
       "       <path d=\"M 4.15625 35.296875 \r\n",
       "Q 4.15625 48 6.765625 55.734375 \r\n",
       "Q 9.375 63.484375 14.515625 67.671875 \r\n",
       "Q 19.671875 71.875 27.484375 71.875 \r\n",
       "Q 33.25 71.875 37.59375 69.546875 \r\n",
       "Q 41.9375 67.234375 44.765625 62.859375 \r\n",
       "Q 47.609375 58.5 49.21875 52.21875 \r\n",
       "Q 50.828125 45.953125 50.828125 35.296875 \r\n",
       "Q 50.828125 22.703125 48.234375 14.96875 \r\n",
       "Q 45.65625 7.234375 40.5 3 \r\n",
       "Q 35.359375 -1.21875 27.484375 -1.21875 \r\n",
       "Q 17.140625 -1.21875 11.234375 6.203125 \r\n",
       "Q 4.15625 15.140625 4.15625 35.296875 \r\n",
       "z\r\n",
       "M 13.1875 35.296875 \r\n",
       "Q 13.1875 17.671875 17.3125 11.828125 \r\n",
       "Q 21.4375 6 27.484375 6 \r\n",
       "Q 33.546875 6 37.671875 11.859375 \r\n",
       "Q 41.796875 17.71875 41.796875 35.296875 \r\n",
       "Q 41.796875 52.984375 37.671875 58.78125 \r\n",
       "Q 33.546875 64.59375 27.390625 64.59375 \r\n",
       "Q 21.34375 64.59375 17.71875 59.46875 \r\n",
       "Q 13.1875 52.9375 13.1875 35.296875 \r\n",
       "z\r\n",
       "\" id=\"ArialMT-30\"/>\r\n",
       "      </defs>\r\n",
       "      <g style=\"fill:#262626;\" transform=\"translate(16.980469 242.376719)scale(0.1 -0.1)\">\r\n",
       "       <use xlink:href=\"#ArialMT-30\"/>\r\n",
       "      </g>\r\n",
       "     </g>\r\n",
       "    </g>\r\n",
       "    <g id=\"xtick_2\">\r\n",
       "     <g id=\"line2d_3\">\r\n",
       "      <path clip-path=\"url(#pf924240ddb)\" d=\"M 63.248938 228.218906 \r\n",
       "L 63.248938 10.778906 \r\n",
       "\" style=\"fill:none;stroke:#ffffff;stroke-linecap:round;\"/>\r\n",
       "     </g>\r\n",
       "     <g id=\"line2d_4\"/>\r\n",
       "     <g id=\"text_2\">\r\n",
       "      <!-- 1 -->\r\n",
       "      <defs>\r\n",
       "       <path d=\"M 37.25 0 \r\n",
       "L 28.46875 0 \r\n",
       "L 28.46875 56 \r\n",
       "Q 25.296875 52.984375 20.140625 49.953125 \r\n",
       "Q 14.984375 46.921875 10.890625 45.40625 \r\n",
       "L 10.890625 53.90625 \r\n",
       "Q 18.265625 57.375 23.78125 62.296875 \r\n",
       "Q 29.296875 67.234375 31.59375 71.875 \r\n",
       "L 37.25 71.875 \r\n",
       "z\r\n",
       "\" id=\"ArialMT-31\"/>\r\n",
       "      </defs>\r\n",
       "      <g style=\"fill:#262626;\" transform=\"translate(60.468469 242.376719)scale(0.1 -0.1)\">\r\n",
       "       <use xlink:href=\"#ArialMT-31\"/>\r\n",
       "      </g>\r\n",
       "     </g>\r\n",
       "    </g>\r\n",
       "    <g id=\"xtick_3\">\r\n",
       "     <g id=\"line2d_5\">\r\n",
       "      <path clip-path=\"url(#pf924240ddb)\" d=\"M 106.736938 228.218906 \r\n",
       "L 106.736938 10.778906 \r\n",
       "\" style=\"fill:none;stroke:#ffffff;stroke-linecap:round;\"/>\r\n",
       "     </g>\r\n",
       "     <g id=\"line2d_6\"/>\r\n",
       "     <g id=\"text_3\">\r\n",
       "      <!-- 2 -->\r\n",
       "      <defs>\r\n",
       "       <path d=\"M 50.34375 8.453125 \r\n",
       "L 50.34375 0 \r\n",
       "L 3.03125 0 \r\n",
       "Q 2.9375 3.171875 4.046875 6.109375 \r\n",
       "Q 5.859375 10.9375 9.828125 15.625 \r\n",
       "Q 13.8125 20.3125 21.34375 26.46875 \r\n",
       "Q 33.015625 36.03125 37.109375 41.625 \r\n",
       "Q 41.21875 47.21875 41.21875 52.203125 \r\n",
       "Q 41.21875 57.421875 37.46875 61 \r\n",
       "Q 33.734375 64.59375 27.734375 64.59375 \r\n",
       "Q 21.390625 64.59375 17.578125 60.78125 \r\n",
       "Q 13.765625 56.984375 13.71875 50.25 \r\n",
       "L 4.6875 51.171875 \r\n",
       "Q 5.609375 61.28125 11.65625 66.578125 \r\n",
       "Q 17.71875 71.875 27.9375 71.875 \r\n",
       "Q 38.234375 71.875 44.234375 66.15625 \r\n",
       "Q 50.25 60.453125 50.25 52 \r\n",
       "Q 50.25 47.703125 48.484375 43.546875 \r\n",
       "Q 46.734375 39.40625 42.65625 34.8125 \r\n",
       "Q 38.578125 30.21875 29.109375 22.21875 \r\n",
       "Q 21.1875 15.578125 18.9375 13.203125 \r\n",
       "Q 16.703125 10.84375 15.234375 8.453125 \r\n",
       "z\r\n",
       "\" id=\"ArialMT-32\"/>\r\n",
       "      </defs>\r\n",
       "      <g style=\"fill:#262626;\" transform=\"translate(103.956469 242.376719)scale(0.1 -0.1)\">\r\n",
       "       <use xlink:href=\"#ArialMT-32\"/>\r\n",
       "      </g>\r\n",
       "     </g>\r\n",
       "    </g>\r\n",
       "    <g id=\"xtick_4\">\r\n",
       "     <g id=\"line2d_7\">\r\n",
       "      <path clip-path=\"url(#pf924240ddb)\" d=\"M 150.224938 228.218906 \r\n",
       "L 150.224938 10.778906 \r\n",
       "\" style=\"fill:none;stroke:#ffffff;stroke-linecap:round;\"/>\r\n",
       "     </g>\r\n",
       "     <g id=\"line2d_8\"/>\r\n",
       "     <g id=\"text_4\">\r\n",
       "      <!-- 3 -->\r\n",
       "      <defs>\r\n",
       "       <path d=\"M 4.203125 18.890625 \r\n",
       "L 12.984375 20.0625 \r\n",
       "Q 14.5 12.59375 18.140625 9.296875 \r\n",
       "Q 21.78125 6 27 6 \r\n",
       "Q 33.203125 6 37.46875 10.296875 \r\n",
       "Q 41.75 14.59375 41.75 20.953125 \r\n",
       "Q 41.75 27 37.796875 30.921875 \r\n",
       "Q 33.84375 34.859375 27.734375 34.859375 \r\n",
       "Q 25.25 34.859375 21.53125 33.890625 \r\n",
       "L 22.515625 41.609375 \r\n",
       "Q 23.390625 41.5 23.921875 41.5 \r\n",
       "Q 29.546875 41.5 34.03125 44.421875 \r\n",
       "Q 38.53125 47.359375 38.53125 53.46875 \r\n",
       "Q 38.53125 58.296875 35.25 61.46875 \r\n",
       "Q 31.984375 64.65625 26.8125 64.65625 \r\n",
       "Q 21.6875 64.65625 18.265625 61.421875 \r\n",
       "Q 14.84375 58.203125 13.875 51.765625 \r\n",
       "L 5.078125 53.328125 \r\n",
       "Q 6.6875 62.15625 12.390625 67.015625 \r\n",
       "Q 18.109375 71.875 26.609375 71.875 \r\n",
       "Q 32.46875 71.875 37.390625 69.359375 \r\n",
       "Q 42.328125 66.84375 44.9375 62.5 \r\n",
       "Q 47.5625 58.15625 47.5625 53.265625 \r\n",
       "Q 47.5625 48.640625 45.0625 44.828125 \r\n",
       "Q 42.578125 41.015625 37.703125 38.765625 \r\n",
       "Q 44.046875 37.3125 47.5625 32.6875 \r\n",
       "Q 51.078125 28.078125 51.078125 21.140625 \r\n",
       "Q 51.078125 11.765625 44.234375 5.25 \r\n",
       "Q 37.40625 -1.265625 26.953125 -1.265625 \r\n",
       "Q 17.53125 -1.265625 11.296875 4.34375 \r\n",
       "Q 5.078125 9.96875 4.203125 18.890625 \r\n",
       "z\r\n",
       "\" id=\"ArialMT-33\"/>\r\n",
       "      </defs>\r\n",
       "      <g style=\"fill:#262626;\" transform=\"translate(147.444469 242.376719)scale(0.1 -0.1)\">\r\n",
       "       <use xlink:href=\"#ArialMT-33\"/>\r\n",
       "      </g>\r\n",
       "     </g>\r\n",
       "    </g>\r\n",
       "    <g id=\"xtick_5\">\r\n",
       "     <g id=\"line2d_9\">\r\n",
       "      <path clip-path=\"url(#pf924240ddb)\" d=\"M 193.712938 228.218906 \r\n",
       "L 193.712938 10.778906 \r\n",
       "\" style=\"fill:none;stroke:#ffffff;stroke-linecap:round;\"/>\r\n",
       "     </g>\r\n",
       "     <g id=\"line2d_10\"/>\r\n",
       "     <g id=\"text_5\">\r\n",
       "      <!-- 4 -->\r\n",
       "      <defs>\r\n",
       "       <path d=\"M 32.328125 0 \r\n",
       "L 32.328125 17.140625 \r\n",
       "L 1.265625 17.140625 \r\n",
       "L 1.265625 25.203125 \r\n",
       "L 33.9375 71.578125 \r\n",
       "L 41.109375 71.578125 \r\n",
       "L 41.109375 25.203125 \r\n",
       "L 50.78125 25.203125 \r\n",
       "L 50.78125 17.140625 \r\n",
       "L 41.109375 17.140625 \r\n",
       "L 41.109375 0 \r\n",
       "z\r\n",
       "M 32.328125 25.203125 \r\n",
       "L 32.328125 57.46875 \r\n",
       "L 9.90625 25.203125 \r\n",
       "z\r\n",
       "\" id=\"ArialMT-34\"/>\r\n",
       "      </defs>\r\n",
       "      <g style=\"fill:#262626;\" transform=\"translate(190.932469 242.376719)scale(0.1 -0.1)\">\r\n",
       "       <use xlink:href=\"#ArialMT-34\"/>\r\n",
       "      </g>\r\n",
       "     </g>\r\n",
       "    </g>\r\n",
       "    <g id=\"xtick_6\">\r\n",
       "     <g id=\"line2d_11\">\r\n",
       "      <path clip-path=\"url(#pf924240ddb)\" d=\"M 237.200938 228.218906 \r\n",
       "L 237.200938 10.778906 \r\n",
       "\" style=\"fill:none;stroke:#ffffff;stroke-linecap:round;\"/>\r\n",
       "     </g>\r\n",
       "     <g id=\"line2d_12\"/>\r\n",
       "     <g id=\"text_6\">\r\n",
       "      <!-- 5 -->\r\n",
       "      <defs>\r\n",
       "       <path d=\"M 4.15625 18.75 \r\n",
       "L 13.375 19.53125 \r\n",
       "Q 14.40625 12.796875 18.140625 9.390625 \r\n",
       "Q 21.875 6 27.15625 6 \r\n",
       "Q 33.5 6 37.890625 10.78125 \r\n",
       "Q 42.28125 15.578125 42.28125 23.484375 \r\n",
       "Q 42.28125 31 38.0625 35.34375 \r\n",
       "Q 33.84375 39.703125 27 39.703125 \r\n",
       "Q 22.75 39.703125 19.328125 37.765625 \r\n",
       "Q 15.921875 35.84375 13.96875 32.765625 \r\n",
       "L 5.71875 33.84375 \r\n",
       "L 12.640625 70.609375 \r\n",
       "L 48.25 70.609375 \r\n",
       "L 48.25 62.203125 \r\n",
       "L 19.671875 62.203125 \r\n",
       "L 15.828125 42.96875 \r\n",
       "Q 22.265625 47.46875 29.34375 47.46875 \r\n",
       "Q 38.71875 47.46875 45.15625 40.96875 \r\n",
       "Q 51.609375 34.46875 51.609375 24.265625 \r\n",
       "Q 51.609375 14.546875 45.953125 7.46875 \r\n",
       "Q 39.0625 -1.21875 27.15625 -1.21875 \r\n",
       "Q 17.390625 -1.21875 11.203125 4.25 \r\n",
       "Q 5.03125 9.71875 4.15625 18.75 \r\n",
       "z\r\n",
       "\" id=\"ArialMT-35\"/>\r\n",
       "      </defs>\r\n",
       "      <g style=\"fill:#262626;\" transform=\"translate(234.420469 242.376719)scale(0.1 -0.1)\">\r\n",
       "       <use xlink:href=\"#ArialMT-35\"/>\r\n",
       "      </g>\r\n",
       "     </g>\r\n",
       "    </g>\r\n",
       "   </g>\r\n",
       "   <g id=\"matplotlib.axis_2\">\r\n",
       "    <g id=\"ytick_1\">\r\n",
       "     <g id=\"line2d_13\">\r\n",
       "      <path clip-path=\"url(#pf924240ddb)\" d=\"M 19.760938 228.218906 \r\n",
       "L 237.200937 228.218906 \r\n",
       "\" style=\"fill:none;stroke:#ffffff;stroke-linecap:round;\"/>\r\n",
       "     </g>\r\n",
       "     <g id=\"line2d_14\"/>\r\n",
       "     <g id=\"text_7\">\r\n",
       "      <!-- 0 -->\r\n",
       "      <g style=\"fill:#262626;\" transform=\"translate(7.2 231.797812)scale(0.1 -0.1)\">\r\n",
       "       <use xlink:href=\"#ArialMT-30\"/>\r\n",
       "      </g>\r\n",
       "     </g>\r\n",
       "    </g>\r\n",
       "    <g id=\"ytick_2\">\r\n",
       "     <g id=\"line2d_15\">\r\n",
       "      <path clip-path=\"url(#pf924240ddb)\" d=\"M 19.760938 184.730906 \r\n",
       "L 237.200937 184.730906 \r\n",
       "\" style=\"fill:none;stroke:#ffffff;stroke-linecap:round;\"/>\r\n",
       "     </g>\r\n",
       "     <g id=\"line2d_16\"/>\r\n",
       "     <g id=\"text_8\">\r\n",
       "      <!-- 1 -->\r\n",
       "      <g style=\"fill:#262626;\" transform=\"translate(7.2 188.309812)scale(0.1 -0.1)\">\r\n",
       "       <use xlink:href=\"#ArialMT-31\"/>\r\n",
       "      </g>\r\n",
       "     </g>\r\n",
       "    </g>\r\n",
       "    <g id=\"ytick_3\">\r\n",
       "     <g id=\"line2d_17\">\r\n",
       "      <path clip-path=\"url(#pf924240ddb)\" d=\"M 19.760938 141.242906 \r\n",
       "L 237.200937 141.242906 \r\n",
       "\" style=\"fill:none;stroke:#ffffff;stroke-linecap:round;\"/>\r\n",
       "     </g>\r\n",
       "     <g id=\"line2d_18\"/>\r\n",
       "     <g id=\"text_9\">\r\n",
       "      <!-- 2 -->\r\n",
       "      <g style=\"fill:#262626;\" transform=\"translate(7.2 144.821812)scale(0.1 -0.1)\">\r\n",
       "       <use xlink:href=\"#ArialMT-32\"/>\r\n",
       "      </g>\r\n",
       "     </g>\r\n",
       "    </g>\r\n",
       "    <g id=\"ytick_4\">\r\n",
       "     <g id=\"line2d_19\">\r\n",
       "      <path clip-path=\"url(#pf924240ddb)\" d=\"M 19.760938 97.754906 \r\n",
       "L 237.200937 97.754906 \r\n",
       "\" style=\"fill:none;stroke:#ffffff;stroke-linecap:round;\"/>\r\n",
       "     </g>\r\n",
       "     <g id=\"line2d_20\"/>\r\n",
       "     <g id=\"text_10\">\r\n",
       "      <!-- 3 -->\r\n",
       "      <g style=\"fill:#262626;\" transform=\"translate(7.2 101.333812)scale(0.1 -0.1)\">\r\n",
       "       <use xlink:href=\"#ArialMT-33\"/>\r\n",
       "      </g>\r\n",
       "     </g>\r\n",
       "    </g>\r\n",
       "    <g id=\"ytick_5\">\r\n",
       "     <g id=\"line2d_21\">\r\n",
       "      <path clip-path=\"url(#pf924240ddb)\" d=\"M 19.760938 54.266906 \r\n",
       "L 237.200937 54.266906 \r\n",
       "\" style=\"fill:none;stroke:#ffffff;stroke-linecap:round;\"/>\r\n",
       "     </g>\r\n",
       "     <g id=\"line2d_22\"/>\r\n",
       "     <g id=\"text_11\">\r\n",
       "      <!-- 4 -->\r\n",
       "      <g style=\"fill:#262626;\" transform=\"translate(7.2 57.845812)scale(0.1 -0.1)\">\r\n",
       "       <use xlink:href=\"#ArialMT-34\"/>\r\n",
       "      </g>\r\n",
       "     </g>\r\n",
       "    </g>\r\n",
       "    <g id=\"ytick_6\">\r\n",
       "     <g id=\"line2d_23\">\r\n",
       "      <path clip-path=\"url(#pf924240ddb)\" d=\"M 19.760938 10.778906 \r\n",
       "L 237.200937 10.778906 \r\n",
       "\" style=\"fill:none;stroke:#ffffff;stroke-linecap:round;\"/>\r\n",
       "     </g>\r\n",
       "     <g id=\"line2d_24\"/>\r\n",
       "     <g id=\"text_12\">\r\n",
       "      <!-- 5 -->\r\n",
       "      <g style=\"fill:#262626;\" transform=\"translate(7.2 14.357812)scale(0.1 -0.1)\">\r\n",
       "       <use xlink:href=\"#ArialMT-35\"/>\r\n",
       "      </g>\r\n",
       "     </g>\r\n",
       "    </g>\r\n",
       "   </g>\r\n",
       "   <g id=\"patch_3\">\r\n",
       "    <path d=\"M 19.760938 228.218906 \r\n",
       "L 19.760938 10.778906 \r\n",
       "\" style=\"fill:none;\"/>\r\n",
       "   </g>\r\n",
       "   <g id=\"patch_4\">\r\n",
       "    <path d=\"M 237.200937 228.218906 \r\n",
       "L 237.200937 10.778906 \r\n",
       "\" style=\"fill:none;\"/>\r\n",
       "   </g>\r\n",
       "   <g id=\"patch_5\">\r\n",
       "    <path d=\"M 19.760938 228.218906 \r\n",
       "L 237.200938 228.218906 \r\n",
       "\" style=\"fill:none;\"/>\r\n",
       "   </g>\r\n",
       "   <g id=\"patch_6\">\r\n",
       "    <path d=\"M 19.760938 10.778906 \r\n",
       "L 237.200938 10.778906 \r\n",
       "\" style=\"fill:none;\"/>\r\n",
       "   </g>\r\n",
       "  </g>\r\n",
       "  <g id=\"axes_2\">\r\n",
       "   <g id=\"patch_7\">\r\n",
       "    <path clip-path=\"url(#p662243ab17)\" d=\"M 253.940938 228.218906 \r\n",
       "L 253.940938 227.369531 \r\n",
       "L 253.940938 11.628281 \r\n",
       "L 253.940938 10.778906 \r\n",
       "L 264.812937 10.778906 \r\n",
       "L 264.812937 11.628281 \r\n",
       "L 264.812937 227.369531 \r\n",
       "L 264.812937 228.218906 \r\n",
       "z\r\n",
       "\" style=\"fill:#eaeaf2;stroke:#eaeaf2;stroke-linejoin:miter;stroke-width:0.01;\"/>\r\n",
       "   </g>\r\n",
       "   <g id=\"matplotlib.axis_3\"/>\r\n",
       "   <g id=\"matplotlib.axis_4\">\r\n",
       "    <g id=\"ytick_7\">\r\n",
       "     <g id=\"line2d_25\"/>\r\n",
       "     <g id=\"text_13\">\r\n",
       "      <!-- −0.75 -->\r\n",
       "      <defs>\r\n",
       "       <path d=\"M 52.828125 31.203125 \r\n",
       "L 5.5625 31.203125 \r\n",
       "L 5.5625 39.40625 \r\n",
       "L 52.828125 39.40625 \r\n",
       "z\r\n",
       "\" id=\"ArialMT-2212\"/>\r\n",
       "       <path d=\"M 9.078125 0 \r\n",
       "L 9.078125 10.015625 \r\n",
       "L 19.09375 10.015625 \r\n",
       "L 19.09375 0 \r\n",
       "z\r\n",
       "\" id=\"ArialMT-2e\"/>\r\n",
       "       <path d=\"M 4.734375 62.203125 \r\n",
       "L 4.734375 70.65625 \r\n",
       "L 51.078125 70.65625 \r\n",
       "L 51.078125 63.8125 \r\n",
       "Q 44.234375 56.546875 37.515625 44.484375 \r\n",
       "Q 30.8125 32.421875 27.15625 19.671875 \r\n",
       "Q 24.515625 10.6875 23.78125 0 \r\n",
       "L 14.75 0 \r\n",
       "Q 14.890625 8.453125 18.0625 20.40625 \r\n",
       "Q 21.234375 32.375 27.171875 43.484375 \r\n",
       "Q 33.109375 54.59375 39.796875 62.203125 \r\n",
       "z\r\n",
       "\" id=\"ArialMT-37\"/>\r\n",
       "      </defs>\r\n",
       "      <g style=\"fill:#262626;\" transform=\"translate(271.812937 205.314485)scale(0.1 -0.1)\">\r\n",
       "       <use xlink:href=\"#ArialMT-2212\"/>\r\n",
       "       <use x=\"58.398438\" xlink:href=\"#ArialMT-30\"/>\r\n",
       "       <use x=\"114.013672\" xlink:href=\"#ArialMT-2e\"/>\r\n",
       "       <use x=\"141.796875\" xlink:href=\"#ArialMT-37\"/>\r\n",
       "       <use x=\"197.412109\" xlink:href=\"#ArialMT-35\"/>\r\n",
       "      </g>\r\n",
       "     </g>\r\n",
       "    </g>\r\n",
       "    <g id=\"ytick_8\">\r\n",
       "     <g id=\"line2d_26\"/>\r\n",
       "     <g id=\"text_14\">\r\n",
       "      <!-- −0.50 -->\r\n",
       "      <g style=\"fill:#262626;\" transform=\"translate(271.812937 178.79286)scale(0.1 -0.1)\">\r\n",
       "       <use xlink:href=\"#ArialMT-2212\"/>\r\n",
       "       <use x=\"58.398438\" xlink:href=\"#ArialMT-30\"/>\r\n",
       "       <use x=\"114.013672\" xlink:href=\"#ArialMT-2e\"/>\r\n",
       "       <use x=\"141.796875\" xlink:href=\"#ArialMT-35\"/>\r\n",
       "       <use x=\"197.412109\" xlink:href=\"#ArialMT-30\"/>\r\n",
       "      </g>\r\n",
       "     </g>\r\n",
       "    </g>\r\n",
       "    <g id=\"ytick_9\">\r\n",
       "     <g id=\"line2d_27\"/>\r\n",
       "     <g id=\"text_15\">\r\n",
       "      <!-- −0.25 -->\r\n",
       "      <g style=\"fill:#262626;\" transform=\"translate(271.812937 152.271235)scale(0.1 -0.1)\">\r\n",
       "       <use xlink:href=\"#ArialMT-2212\"/>\r\n",
       "       <use x=\"58.398438\" xlink:href=\"#ArialMT-30\"/>\r\n",
       "       <use x=\"114.013672\" xlink:href=\"#ArialMT-2e\"/>\r\n",
       "       <use x=\"141.796875\" xlink:href=\"#ArialMT-32\"/>\r\n",
       "       <use x=\"197.412109\" xlink:href=\"#ArialMT-35\"/>\r\n",
       "      </g>\r\n",
       "     </g>\r\n",
       "    </g>\r\n",
       "    <g id=\"ytick_10\">\r\n",
       "     <g id=\"line2d_28\"/>\r\n",
       "     <g id=\"text_16\">\r\n",
       "      <!-- 0.00 -->\r\n",
       "      <g style=\"fill:#262626;\" transform=\"translate(271.812937 125.74961)scale(0.1 -0.1)\">\r\n",
       "       <use xlink:href=\"#ArialMT-30\"/>\r\n",
       "       <use x=\"55.615234\" xlink:href=\"#ArialMT-2e\"/>\r\n",
       "       <use x=\"83.398438\" xlink:href=\"#ArialMT-30\"/>\r\n",
       "       <use x=\"139.013672\" xlink:href=\"#ArialMT-30\"/>\r\n",
       "      </g>\r\n",
       "     </g>\r\n",
       "    </g>\r\n",
       "    <g id=\"ytick_11\">\r\n",
       "     <g id=\"line2d_29\"/>\r\n",
       "     <g id=\"text_17\">\r\n",
       "      <!-- 0.25 -->\r\n",
       "      <g style=\"fill:#262626;\" transform=\"translate(271.812937 99.227985)scale(0.1 -0.1)\">\r\n",
       "       <use xlink:href=\"#ArialMT-30\"/>\r\n",
       "       <use x=\"55.615234\" xlink:href=\"#ArialMT-2e\"/>\r\n",
       "       <use x=\"83.398438\" xlink:href=\"#ArialMT-32\"/>\r\n",
       "       <use x=\"139.013672\" xlink:href=\"#ArialMT-35\"/>\r\n",
       "      </g>\r\n",
       "     </g>\r\n",
       "    </g>\r\n",
       "    <g id=\"ytick_12\">\r\n",
       "     <g id=\"line2d_30\"/>\r\n",
       "     <g id=\"text_18\">\r\n",
       "      <!-- 0.50 -->\r\n",
       "      <g style=\"fill:#262626;\" transform=\"translate(271.812937 72.70636)scale(0.1 -0.1)\">\r\n",
       "       <use xlink:href=\"#ArialMT-30\"/>\r\n",
       "       <use x=\"55.615234\" xlink:href=\"#ArialMT-2e\"/>\r\n",
       "       <use x=\"83.398438\" xlink:href=\"#ArialMT-35\"/>\r\n",
       "       <use x=\"139.013672\" xlink:href=\"#ArialMT-30\"/>\r\n",
       "      </g>\r\n",
       "     </g>\r\n",
       "    </g>\r\n",
       "    <g id=\"ytick_13\">\r\n",
       "     <g id=\"line2d_31\"/>\r\n",
       "     <g id=\"text_19\">\r\n",
       "      <!-- 0.75 -->\r\n",
       "      <g style=\"fill:#262626;\" transform=\"translate(271.812937 46.184735)scale(0.1 -0.1)\">\r\n",
       "       <use xlink:href=\"#ArialMT-30\"/>\r\n",
       "       <use x=\"55.615234\" xlink:href=\"#ArialMT-2e\"/>\r\n",
       "       <use x=\"83.398438\" xlink:href=\"#ArialMT-37\"/>\r\n",
       "       <use x=\"139.013672\" xlink:href=\"#ArialMT-35\"/>\r\n",
       "      </g>\r\n",
       "     </g>\r\n",
       "    </g>\r\n",
       "    <g id=\"ytick_14\">\r\n",
       "     <g id=\"line2d_32\"/>\r\n",
       "     <g id=\"text_20\">\r\n",
       "      <!-- 1.00 -->\r\n",
       "      <g style=\"fill:#262626;\" transform=\"translate(271.812937 19.66311)scale(0.1 -0.1)\">\r\n",
       "       <use xlink:href=\"#ArialMT-31\"/>\r\n",
       "       <use x=\"55.615234\" xlink:href=\"#ArialMT-2e\"/>\r\n",
       "       <use x=\"83.398438\" xlink:href=\"#ArialMT-30\"/>\r\n",
       "       <use x=\"139.013672\" xlink:href=\"#ArialMT-30\"/>\r\n",
       "      </g>\r\n",
       "     </g>\r\n",
       "    </g>\r\n",
       "   </g>\r\n",
       "   <image height=\"218\" id=\"image4903ce365c\" transform=\"scale(1 -1)translate(0 -218)\" width=\"11\" x=\"254\" xlink:href=\"data:image/png;base64,\r\n",
       "iVBORw0KGgoAAAANSUhEUgAAAAsAAADaCAYAAABwzrisAAAABHNCSVQICAgIfAhkiAAAAWhJREFUaIHtmjFuxDAMBEVSysvyhPz/JZcobUpOMQAdnOsFsZylaZ988RlfdzWvvSK72rWjCogz+mJkY7HKQIwaXEk8ExuowfDQoQY9Gp6Y0UCzMaNBJC6Q4GWc29oxNG7NsDGD89Xm+Xqe+1p4w3qhsMqkQUQDxg0qQ86k8gNpwAYtdLf/ZHtmg8wzu2E1G2KDIziPoTHCxhQa/77yO+6/ldnbF6lseQaOHzobZtztk6FnzrNGg02dSUNLkK0Cy4ZHA5yTqZyReFk2gqyC0GiAV34aNxGnthiRDVDYbDA1zlDc1kLPFT8TbLAEUYMJGkyyZDzPnniTuId4ZmKS4M7vCTYgDZDgYXFbs1GMhmXjhBV3LQ0dokE4n3wBG1qCXmUUN0rQCwVWBuIPNvwoQYQObVErlLPIbHjz7DXoJag92lBlJD5s6vrXBt/G1y7we4nZOOSvL9AGEBf5bpXgnIXZOLHbYnSc9QsiN4FoXZhmMQAAAABJRU5ErkJggg==\" y=\"-10\"/>\r\n",
       "   <g id=\"patch_8\">\r\n",
       "    <path d=\"M 253.940938 228.218906 \r\n",
       "L 253.940938 227.369531 \r\n",
       "L 253.940938 11.628281 \r\n",
       "L 253.940938 10.778906 \r\n",
       "L 264.812937 10.778906 \r\n",
       "L 264.812937 11.628281 \r\n",
       "L 264.812937 227.369531 \r\n",
       "L 264.812937 228.218906 \r\n",
       "z\r\n",
       "\" style=\"fill:none;\"/>\r\n",
       "   </g>\r\n",
       "  </g>\r\n",
       " </g>\r\n",
       " <defs>\r\n",
       "  <clipPath id=\"pf924240ddb\">\r\n",
       "   <rect height=\"217.44\" width=\"217.44\" x=\"19.760938\" y=\"10.778906\"/>\r\n",
       "  </clipPath>\r\n",
       "  <clipPath id=\"p662243ab17\">\r\n",
       "   <rect height=\"217.44\" width=\"10.872\" x=\"253.940938\" y=\"10.778906\"/>\r\n",
       "  </clipPath>\r\n",
       " </defs>\r\n",
       "</svg>\r\n"
      ],
      "text/plain": [
       "<Figure size 432x288 with 2 Axes>"
      ]
     },
     "metadata": {},
     "output_type": "display_data"
    }
   ],
   "source": [
    "z = np.sin(x) ** 10 + np.cos(10 + y * x) * np.cos(x)\n",
    "plt.imshow(z, origin = 'lower', extent = [0, 5, 0, 5], cmap = 'viridis')\n",
    "plt.colorbar();"
   ]
  },
  {
   "cell_type": "markdown",
   "metadata": {},
   "source": [
    "## 2.6 布尔掩码"
   ]
  },
  {
   "cell_type": "markdown",
   "metadata": {},
   "source": [
    "一言以蔽之arr[arr > 0]，此外还有sum，any，all(可选axis)，以及and\\or 与&\\\\|的区别"
   ]
  },
  {
   "cell_type": "markdown",
   "metadata": {},
   "source": [
    "## 2.7 花哨的索引"
   ]
  },
  {
   "cell_type": "markdown",
   "metadata": {},
   "source": [
    "### 2.7.1 探索花哨的索引"
   ]
  },
  {
   "cell_type": "markdown",
   "metadata": {},
   "source": [
    "* 正常索引 [x[1], x[2], x[3]]\n",
    "* 传递索引列表 x[ind] ind = [3, 7, 4]\n",
    "* 传递索引数组 形状与索引数组的形状一致\n",
    "* 行列对标索引 第一个参数行数组，第二个参数列数组，行列定位(索引值的配对遵循广播规则)"
   ]
  },
  {
   "cell_type": "code",
   "execution_count": 3,
   "metadata": {},
   "outputs": [
    {
     "data": {
      "text/plain": [
       "array([[2, 1, 3],\n",
       "       [3, 2, 4],\n",
       "       [4, 3, 5]])"
      ]
     },
     "execution_count": 3,
     "metadata": {},
     "output_type": "execute_result"
    }
   ],
   "source": [
    "import numpy as np\n",
    "row = np.array([0, 1, 2])\n",
    "col = np.array([2, 1, 3])\n",
    "row[:, np.newaxis] + col"
   ]
  },
  {
   "cell_type": "markdown",
   "metadata": {},
   "source": [
    "**一个例子搞懂花哨索引和掩码！**"
   ]
  },
  {
   "cell_type": "code",
   "execution_count": 4,
   "metadata": {},
   "outputs": [
    {
     "data": {
      "text/plain": [
       "array([[ 0,  2],\n",
       "       [ 4,  6],\n",
       "       [ 8, 10]])"
      ]
     },
     "execution_count": 4,
     "metadata": {},
     "output_type": "execute_result"
    }
   ],
   "source": [
    "X = np.arange(12).reshape((3, 4))\n",
    "row = np.array([0, 1, 2])\n",
    "mask = np.array([1, 0, 1, 0], dtype = bool)\n",
    "X[row[:, np.newaxis], mask]"
   ]
  },
  {
   "cell_type": "markdown",
   "metadata": {},
   "source": [
    "### 2.7.3 和2.7.4要着重再看一下"
   ]
  },
  {
   "cell_type": "markdown",
   "metadata": {},
   "source": [
    "### 2.8.2 部分排序是什么玩法"
   ]
  },
  {
   "cell_type": "code",
   "execution_count": 10,
   "metadata": {},
   "outputs": [
    {
     "data": {
      "text/plain": [
       "array([2, 1, 3, 4, 5, 6, 7])"
      ]
     },
     "execution_count": 10,
     "metadata": {},
     "output_type": "execute_result"
    }
   ],
   "source": [
    "x = np.array([7, 2, 3, 1, 6, 5, 4])\n",
    "np.partition(x, 4)#前四个值是最小的！！！"
   ]
  },
  {
   "cell_type": "markdown",
   "metadata": {},
   "source": [
    ">**不玩了不玩了，NumPy玩够了，换下一个了**"
   ]
  }
 ],
 "metadata": {
  "kernelspec": {
   "display_name": "Python 3",
   "language": "python",
   "name": "python3"
  },
  "language_info": {
   "codemirror_mode": {
    "name": "ipython",
    "version": 3
   },
   "file_extension": ".py",
   "mimetype": "text/x-python",
   "name": "python",
   "nbconvert_exporter": "python",
   "pygments_lexer": "ipython3",
   "version": "3.6.5"
  },
  "toc": {
   "base_numbering": 1,
   "nav_menu": {},
   "number_sections": false,
   "sideBar": true,
   "skip_h1_title": false,
   "title_cell": "Table of Contents",
   "title_sidebar": "Contents",
   "toc_cell": false,
   "toc_position": {
    "height": "calc(100% - 180px)",
    "left": "10px",
    "top": "150px",
    "width": "243px"
   },
   "toc_section_display": true,
   "toc_window_display": true
  }
 },
 "nbformat": 4,
 "nbformat_minor": 2
}
